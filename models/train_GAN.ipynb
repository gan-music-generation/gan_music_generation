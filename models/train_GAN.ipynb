{
 "cells": [
  {
   "cell_type": "markdown",
   "metadata": {
    "colab_type": "text",
    "id": "wmqavs_njSbD"
   },
   "source": [
    "# **Simple GAN to generate music**"
   ]
  },
  {
   "cell_type": "markdown",
   "metadata": {
    "colab_type": "text",
    "id": "frvU56lTdiR3"
   },
   "source": [
    "## Imports and constant params"
   ]
  },
  {
   "cell_type": "code",
   "execution_count": 17,
   "metadata": {
    "colab": {},
    "colab_type": "code",
    "id": "GuRpG25wdjjk",
    "pycharm": {
     "is_executing": false
    }
   },
   "outputs": [],
   "source": [
    "import tensorflow as tf\n",
    "from tensorflow import keras\n",
    "from tensorflow.keras import layers\n",
    "from tensorflow.keras import Input\n",
    "from tensorflow.keras import optimizers\n",
    "from tensorflow.keras import models, Model\n",
    "from tensorflow.keras.layers import LeakyReLU\n",
    "from tensorflow.keras.datasets import mnist\n",
    "import matplotlib.pyplot as plt\n",
    "import numpy as np\n",
    "import pydot\n",
    "import graphviz\n",
    "from IPython import display\n",
    "\n",
    "\n",
    "NOTE_MIN = 53\n",
    "NOTE_MAX = 93\n",
    "DOWNLOAD = True"
   ]
  },
  {
   "cell_type": "code",
   "execution_count": 18,
   "metadata": {
    "colab": {
     "base_uri": "https://localhost:8080/",
     "height": 34
    },
    "colab_type": "code",
    "id": "8dNRQSOi8oF2",
    "outputId": "2e8d73d3-b01c-4070-f7e8-85320642ed2f",
    "pycharm": {
     "is_executing": false
    }
   },
   "outputs": [
    {
     "data": {
      "text/plain": [
       "'1.13.1'"
      ]
     },
     "execution_count": 18,
     "metadata": {},
     "output_type": "execute_result"
    }
   ],
   "source": [
    "tf.__version__"
   ]
  },
  {
   "cell_type": "markdown",
   "metadata": {
    "colab_type": "text",
    "id": "TYywD5ZrdYxV"
   },
   "source": [
    "## Retrieve data \n",
    "Can be uploaded directly to the notebook or downloaded from dropbox"
   ]
  },
  {
   "cell_type": "code",
   "execution_count": 19,
   "metadata": {
    "colab": {},
    "colab_type": "code",
    "id": "R8F7nPs3deDh",
    "pycharm": {
     "is_executing": false
    }
   },
   "outputs": [],
   "source": [
    "raw_data = np.load(\"{}.npy\".format('./../data/raw/June_Fixes_Notes'),  allow_pickle=True) # if uploaded"
   ]
  },
  {
   "cell_type": "code",
   "execution_count": 20,
   "metadata": {
    "colab": {
     "base_uri": "https://localhost:8080/",
     "height": 918
    },
    "colab_type": "code",
    "id": "6QjqXrYZNkVm",
    "outputId": "5d0fa240-862c-4f0b-f9ae-0a20cc0cdd94",
    "pycharm": {
     "is_executing": false
    }
   },
   "outputs": [
    {
     "name": "stdout",
     "output_type": "stream",
     "text": [
      "Loaded data\n",
      "Shape: (3468,)\n",
      "First Entry:\n",
      "\n",
      "[[81 81 79 79  0  0  0  0  0  0  0  0  0  0  0  0]\n",
      " [78 78 81 81 76 76 78 78 74 74 76 76 69 69 66 66]\n",
      " [62 62 66 66 69 69 74 74 78 78 78 78 76 76 78 78]\n",
      " [79 79 83 83 76 76 79 79 74 74 76 76 69 69 66 66]\n",
      " [67 67 71 71 69 69 67 67 64 64 64 64 81 81 79 79]\n",
      " [78 78 81 81 76 76 78 78 74 74 76 76 69 69 66 66]\n",
      " [62 62 66 66 69 69 74 74 78 78 78 78 76 76 78 78]\n",
      " [79 79 78 78 76 76 74 74 72 72 69 69 71 71 72 72]\n",
      " [74 74 74 74 78 78 78 78 74 74 74 74 81 81 79 79]\n",
      " [78 78 81 81 76 76 78 78 74 74 76 76 69 69 66 66]\n",
      " [62 62 66 66 69 69 74 74 78 78 78 78 76 76 78 78]\n",
      " [79 79 83 83 76 76 79 79 74 74 76 76 69 69 66 66]\n",
      " [67 67 71 71 69 69 67 67 64 64 64 64 81 81 79 79]\n",
      " [78 78 81 81 76 76 78 78 74 74 76 76 69 69 66 66]\n",
      " [62 62 66 66 69 69 74 74 78 78 78 78 76 76 78 78]\n",
      " [79 79 78 78 76 76 74 74 72 72 69 69 71 71 72 72]\n",
      " [74 74 74 74 78 78 78 78 74 74 74 74 62 62 64 64]\n",
      " [67 67 66 66 67 67 69 69 71 71 72 72 74 74 76 76]\n",
      " [78 78 79 79 78 78 76 76 74 74 72 72 74 74 71 71]\n",
      " [69 69 69 69 78 78 78 78 78 78 76 76 78 78 78 78]\n",
      " [67 67 67 67 76 76 76 76 76 76 74 74 76 76 76 76]\n",
      " [67 67 66 66 67 67 69 69 71 71 72 72 74 74 76 76]\n",
      " [78 78 79 79 78 78 76 76 74 74 72 72 74 74 71 71]\n",
      " [69 69 78 78 76 76 74 74 72 72 69 69 71 71 72 72]\n",
      " [74 74 74 74 78 78 78 78 74 74 74 74 62 62 64 64]\n",
      " [67 67 66 66 67 67 69 69 71 71 72 72 74 74 76 76]\n",
      " [78 78 79 79 78 78 76 76 74 74 72 72 74 74 71 71]\n",
      " [69 69 69 69 78 78 78 78 78 78 76 76 78 78 78 78]\n",
      " [67 67 67 67 76 76 76 76 76 76 74 74 76 76 76 76]\n",
      " [67 67 66 66 67 67 69 69 71 71 72 72 74 74 76 76]\n",
      " [78 78 79 79 78 78 76 76 74 74 72 72 74 74 71 71]\n",
      " [69 69 78 78 76 76 74 74 72 72 69 69 71 71 72 72]\n",
      " [74 74 74 74 78 78 78 78 74 74 74 74 81 81 79 79]\n",
      " [78 78 79 79 76 76 78 78 74 74 76 76 72 72 74 74]\n",
      " [71 71 72 72 69 69 71 71 67 67 67 67 83 83 81 81]\n",
      " [79 79 81 81 78 78 79 79 76 76 78 78 74 74 76 76]\n",
      " [72 72 74 74 71 71 72 72 69 69 69 69 81 81 79 79]\n",
      " [78 78 79 79 76 76 78 78 74 74 76 76 72 72 74 74]\n",
      " [71 71 72 72 69 69 71 71 67 67 69 69 66 66 67 67]\n",
      " [64 64 78 78 76 76 74 74 72 72 69 69 71 71 72 72]\n",
      " [74 74 74 74 78 78 78 78 74 74 74 74 81 81 79 79]\n",
      " [78 78 79 79 76 76 78 78 74 74 76 76 72 72 74 74]\n",
      " [71 71 72 72 69 69 71 71 67 67 67 67 83 83 81 81]\n",
      " [79 79 81 81 78 78 79 79 76 76 78 78 74 74 76 76]\n",
      " [72 72 74 74 71 71 72 72 69 69 69 69 81 81 79 79]\n",
      " [78 78 79 79 76 76 78 78 74 74 76 76 72 72 74 74]\n",
      " [71 71 72 72 69 69 71 71 67 67 69 69 66 66 67 67]\n",
      " [64 64 78 78 76 76 74 74 72 72 69 69 71 71 72 72]\n",
      " [74 74 74 74 78 78 78 78 74 74 74 74  0  0  0  0]]\n"
     ]
    }
   ],
   "source": [
    "print(\"Loaded data\")\n",
    "print(\"Shape: {}\".format(raw_data.shape))\n",
    "print(\"First Entry:\", end=\"\\n\\n\")\n",
    "print(raw_data[2])"
   ]
  },
  {
   "cell_type": "markdown",
   "metadata": {
    "colab_type": "text",
    "id": "6A-U5j5Ng38k"
   },
   "source": [
    "## Reshape data"
   ]
  },
  {
   "cell_type": "code",
   "execution_count": 21,
   "metadata": {
    "colab": {
     "base_uri": "https://localhost:8080/",
     "height": 272
    },
    "colab_type": "code",
    "id": "pYNpQZJTg6Vc",
    "outputId": "ce67d719-a8be-4ea2-9584-005eeb19d218",
    "pycharm": {
     "is_executing": false
    }
   },
   "outputs": [
    {
     "name": "stdout",
     "output_type": "stream",
     "text": [
      "Old shape: (3468,)\n",
      "[[74 74 74 74 74 74 72 72 74 74 69 69 65 65 69 69 74 74 74 74 74 74 72 72\n",
      "  74 74 77 77 75 75 72 72 74 74 74 74 74 74 72 72 74 74 69 69 65 65 69 69\n",
      "  67 67 65 65 63 63 65 65 67 67 69 69 70 70 72 72]\n",
      " [74 74 74 74 74 74 72 72 74 74 69 69 65 65 69 69 74 74 74 74 74 74 72 72\n",
      "  74 74 77 77 75 75 79 79 77 77 74 74 75 75 72 72 74 74 69 69 65 65 69 69\n",
      "  67 67 65 65 63 63 65 65 67 67 70 70 69 69 67 67]\n",
      " [65 65 62 62 69 69 62 62 70 70 62 62 69 69 62 62 65 65 62 62 69 69 62 62\n",
      "  67 67 70 70 69 69 67 67 65 65 62 62 69 69 62 62 70 70 62 62 69 69 62 62\n",
      "  67 67 65 65 63 63 65 65 67 67 70 70 69 69 67 67]\n",
      " [65 65 62 62 69 69 62 62 70 70 62 62 69 69 62 62 65 65 62 62 69 69 62 62\n",
      "  67 67 70 70 69 69 67 67 65 65 69 69 74 74 77 77 75 75 72 72 74 74 69 69\n",
      "  67 67 65 65 63 63 65 65 67 67 69 69 70 70 72 72]]\n",
      "Min/Max:  0 93\n",
      "New shape: (1076, 4, 64)\n"
     ]
    }
   ],
   "source": [
    "print(\"Old shape: {}\".format(raw_data.shape))\n",
    "numOfBars = np.array([tune.shape[0] for tune in raw_data])\n",
    "# Tunes with a pickup bar, have the pickup bar padded\n",
    "# with zeros to 16 notes.\n",
    "notesPerBar = np.array([tune.shape[1] for tune in raw_data])\n",
    "data = raw_data[(numOfBars >= 16) & (notesPerBar == 16)]\n",
    "\n",
    "newdata = []\n",
    "\n",
    "for index, tune in enumerate(data):\n",
    "    if len(tune) == 16:\n",
    "      newdata.append(tune.tolist())\n",
    "    if len(tune) == 17:\n",
    "      newdata.append(tune[1:].tolist())\n",
    "    \n",
    "data = newdata\n",
    "data = np.array(data).reshape([-1, 4, 16*4])\n",
    "data = np.clip(data, 0, 127) #subzero makes no sense\n",
    "\n",
    "print(data[0])\n",
    "print(\"Min/Max: \", data.min(), data.max())\n",
    "print(\"New shape: {}\".format(data.shape))"
   ]
  },
  {
   "cell_type": "code",
   "execution_count": 22,
   "metadata": {
    "colab": {
     "base_uri": "https://localhost:8080/",
     "height": 51
    },
    "colab_type": "code",
    "id": "nH0oUIHPlHVb",
    "outputId": "d5359622-e773-46ea-c839-e23ef4e1cf29",
    "pycharm": {
     "is_executing": false
    }
   },
   "outputs": [
    {
     "name": "stdout",
     "output_type": "stream",
     "text": [
      "(820, 4, 64) 53 93\n",
      "74.54727991615853\n"
     ]
    }
   ],
   "source": [
    "tunes_nonzero = []\n",
    "for tune in data:\n",
    "  if np.any(tune<NOTE_MIN): continue\n",
    "  tunes_nonzero.append(tune)\n",
    "data = np.array(tunes_nonzero)\n",
    "print(data.shape, data.min(), data.max())\n",
    "print(data.mean())"
   ]
  },
  {
   "cell_type": "code",
   "execution_count": 23,
   "metadata": {
    "colab": {
     "base_uri": "https://localhost:8080/",
     "height": 595
    },
    "colab_type": "code",
    "id": "LuMUk_H3OU00",
    "outputId": "8f9ceab7-f257-48e2-c128-4397f713d58a",
    "pycharm": {
     "is_executing": false
    }
   },
   "outputs": [
    {
     "name": "stdout",
     "output_type": "stream",
     "text": [
      "In key:\n",
      "\tF,: 0.00%\n",
      "\tG,: 0.00%\n",
      "\tA,: 0.73%\n",
      "\tB,: 1.34%\n",
      "\tC: 0.00%\n",
      "\tD: 12.07%\n",
      "\tE: 3.90%\n",
      "\tF: 3.41%\n",
      "\tG: 1.83%\n",
      "\tA: 10.85%\n",
      "\tB: 8.41%\n",
      "\tc: 0.37%\n",
      "\td: 27.56%\n",
      "\te: 9.51%\n",
      "\tf: 4.88%\n",
      "\tg: 2.68%\n",
      "\ta: 4.02%\n",
      "\tb: 1.22%\n",
      "\tc': 0.00%\n",
      "\td': 1.83%\n",
      "\te': 0.12%\n",
      "\tf': 0.00%\n",
      "Not in key:\n",
      "\t58: 0.24%\n",
      "\t60: 0.37%\n",
      "\t63: 0.85%\n",
      "\t65: 0.37%\n",
      "\t70: 0.24%\n",
      "\t72: 2.32%\n",
      "\t75: 0.24%\n",
      "\t80: 0.12%\n",
      "\t84: 0.49%\n",
      "Total out of key: 5.24%\n"
     ]
    }
   ],
   "source": [
    "# data[0][-1][-1]\n",
    "\n",
    "notefreq = {}\n",
    "for dat in data:\n",
    "  if dat[0][-4] in notefreq:\n",
    "    notefreq[dat[0][-4]] += 1\n",
    "  else:\n",
    "    notefreq[dat[0][-4]] = 1\n",
    "\n",
    "# 2 2 1 2 2 2 1\n",
    "    \n",
    "chars_as_num = {\n",
    "    'F,': 54,\n",
    "    'G,': 55,\n",
    "    'A,': 57,\n",
    "    'B,': 59,\n",
    "    'C': 61,\n",
    "    'D': 62,\n",
    "    'E': 64,\n",
    "    'F': 66,\n",
    "    'G': 67,\n",
    "    'A': 69,\n",
    "    'B': 71,\n",
    "    'c': 73,\n",
    "    'd': 74,\n",
    "    'e': 76,\n",
    "    'f': 78,\n",
    "    'g': 79,\n",
    "    'a': 81,\n",
    "    'b': 83,\n",
    "    'c\\'': 85,\n",
    "    'd\\'': 86,\n",
    "    'e\\'': 88,\n",
    "    'f\\'': 90\n",
    "}\n",
    "\n",
    "notes = {v:k for (k,v) in chars_as_num.items()}\n",
    "print(\"In key:\")\n",
    "for k in range(data.min(), data.max()):\n",
    "  if k in notes:\n",
    "    if k in notefreq:\n",
    "      print(\"\\t{}: {:.2f}%\".format(notes[k], 100*notefreq[k]/data.shape[0]))\n",
    "    else:\n",
    "      print(\"\\t{}: {:.2f}%\".format(notes[k], 0))\n",
    "print(\"Not in key:\")\n",
    "notinkey = 0\n",
    "for k in range(data.min(), data.max()):\n",
    "  if k not in notes:\n",
    "    if k in notefreq:\n",
    "      notinkey += notefreq[k]\n",
    "      print(\"\\t{}: {:.2f}%\".format(k, 100*notefreq[k]/data.shape[0]))\n",
    "print(\"{}: {:.2f}%\".format(\"Total out of key\", 100*notinkey/data.shape[0]))  "
   ]
  },
  {
   "cell_type": "code",
   "execution_count": 24,
   "metadata": {
    "colab": {
     "base_uri": "https://localhost:8080/",
     "height": 153
    },
    "colab_type": "code",
    "id": "j9hubkLSTRO5",
    "outputId": "cbf94355-6aa9-45cf-c1b7-b3ee3cbe5cf6",
    "pycharm": {
     "is_executing": false
    }
   },
   "outputs": [
    {
     "name": "stdout",
     "output_type": "stream",
     "text": [
      "1/4: 37.44%\n",
      "1/8: 62.07%\n",
      "1/16: 0.49%\n",
      "\n",
      "In key:\n",
      "1/4: 21.95% (58.63%)\n",
      "1/8: 22.56% (36.35%)\n",
      "1/16: 0.24% (50.00%)\n"
     ]
    }
   ],
   "source": [
    "quarter = 0\n",
    "eigth = 0\n",
    "sixteenth = 0\n",
    "quarterinkey = 0\n",
    "eigthinkey = 0\n",
    "sixteenthinkey = 0\n",
    "\n",
    "for dat in data:\n",
    "  if dat[-4][-1] == dat[-4][-4]:\n",
    "    quarter += 1\n",
    "    if dat[-4][-1] == 62 or dat[-4][-1] == 74:\n",
    "      quarterinkey += 1\n",
    "  elif dat[-4][-1] == dat[-4][-2]:\n",
    "    eigth += 1\n",
    "    if dat[-4][-4] == 62 or dat[-4][-4] == 74 or dat[-4][-2] == 62 or dat[-4][-2] == 74:\n",
    "      eigthinkey += 1\n",
    "  else:\n",
    "    sixteenth += 1\n",
    "    if dat[-4][-4] == 62 or dat[-4][-4] == 74 or dat[-4][-2] == 62 or dat[-4][-2] == 74 or dat[-4][-1] == 62 or dat[-4][-1] == 74:\n",
    "      sixteenthinkey += 1\n",
    "    \n",
    "quarter = 100*quarter/data.shape[0]\n",
    "eigth = 100*eigth/data.shape[0]\n",
    "sixteenth = 100*sixteenth/data.shape[0]\n",
    "quarterinkey = 100*quarterinkey/data.shape[0]\n",
    "eigthinkey = 100*eigthinkey/data.shape[0]\n",
    "sixteenthinkey = 100*sixteenthinkey/data.shape[0]\n",
    "    \n",
    "print(\"1/4: {:.2f}%\\n1/8: {:.2f}%\\n1/16: {:.2f}%\".format(quarter, eigth, sixteenth))\n",
    "print(\"\\nIn key:\\n1/4: {:.2f}% ({:.2f}%)\\n1/8: {:.2f}% ({:.2f}%)\\n1/16: {:.2f}% ({:.2f}%)\".format(quarterinkey, 100*quarterinkey/quarter, eigthinkey, 100*eigthinkey/eigth, sixteenthinkey, 100*sixteenthinkey/sixteenth))"
   ]
  },
  {
   "cell_type": "markdown",
   "metadata": {
    "colab_type": "text",
    "id": "rlA2N76xplaO"
   },
   "source": [
    "### Calculate variation across images"
   ]
  },
  {
   "cell_type": "code",
   "execution_count": 25,
   "metadata": {
    "colab": {
     "base_uri": "https://localhost:8080/",
     "height": 238
    },
    "colab_type": "code",
    "id": "ocMjhZ5LpiRo",
    "outputId": "a80f286a-236f-4f25-be02-184886759fc9",
    "pycharm": {
     "is_executing": false
    }
   },
   "outputs": [
    {
     "name": "stdout",
     "output_type": "stream",
     "text": [
      "Mean Absolute Deviation:\n",
      "Max: 5.61\n",
      "Min: 4.32\n"
     ]
    },
    {
     "data": {
      "image/png": "[encoded data removed]",
      "text/plain": [
       "<Figure size 360x180 with 1 Axes>"
      ]
     },
     "metadata": {
      "needs_background": "light"
     },
     "output_type": "display_data"
    }
   ],
   "source": [
    "def calculateVariation(data, plotMin=None, plotMax=None):\n",
    "  mad = np.abs(data - data.mean(axis=0)).mean(axis=0)\n",
    "  print(\"Mean Absolute Deviation:\")\n",
    "  print(\"Max:\", f\"{mad.max():.2f}\")\n",
    "  print(\"Min:\", f\"{mad.min():.2f}\")\n",
    "\n",
    "  plt.figure(figsize=[5, 2.5])\n",
    "  plt.imshow(mad, cmap='gray', aspect='auto', vmin=plotMin, vmax=plotMax)\n",
    "  plt.show()\n",
    "  \n",
    "calculateVariation(data, plotMin=3.8, plotMax=6)"
   ]
  },
  {
   "cell_type": "markdown",
   "metadata": {
    "colab_type": "text",
    "id": "8u81a4HO7Je3"
   },
   "source": [
    "## Make GAN"
   ]
  },
  {
   "cell_type": "code",
   "execution_count": null,
   "metadata": {
    "colab": {
     "base_uri": "https://localhost:8080/",
     "height": 1000
    },
    "colab_type": "code",
    "id": "4qz50i0617f1",
    "outputId": "383cb3d2-7c7d-4ef5-f4cc-95a6b51177e9",
    "pycharm": {
     "is_executing": false
    },
    "scrolled": false
   },
   "outputs": [],
   "source": [
    "class GAN():\n",
    "    def __init__(self):\n",
    "        self.img_dim = [4, 64] #RHS of sum is padding\n",
    "        self.channels = 1\n",
    "        self.img_shape = [*self.img_dim, self.channels]\n",
    "        self.noise_shape = [100, ]\n",
    "\n",
    "        self.gloss = []\n",
    "        self.dloss = []\n",
    "        self.intervals = []\n",
    "        self.graphInterval = 50\n",
    "\n",
    "        optimizer = optimizers.Adam()\n",
    "\n",
    "        self.discriminator = self.build_discriminator()\n",
    "        self.discriminator.compile(loss='binary_crossentropy',\n",
    "                                   optimizer=optimizer,\n",
    "                                   metrics=['accuracy'])\n",
    "\n",
    "        self.generator = self.build_generator()\n",
    "\n",
    "        noise = layers.Input(shape=self.noise_shape)\n",
    "        img = self.generator(noise)\n",
    "\n",
    "        self.discriminator.trainable = False\n",
    "\n",
    "        valid = self.discriminator(img)\n",
    "\n",
    "        self.combined = models.Model(inputs=noise, outputs=valid)\n",
    "        self.combined.compile(loss='binary_crossentropy', optimizer=optimizer)\n",
    "\n",
    "    def build_generator(self, momentum=0.8, alpha_leak=0.2):\n",
    "        noise_shape = self.noise_shape\n",
    "        num_filters = 256\n",
    "        model = models.Sequential()\n",
    "\n",
    "        #dense in, reshape\n",
    "        model.add(layers.Dense(self.img_dim[0]//2 * self.img_dim[1]//2 * num_filters, input_shape=noise_shape, activation = \"selu\"))\n",
    "        model.add(layers.Reshape([(self.img_dim[0]//2),(self.img_dim[1]//2), num_filters*self.channels]))\n",
    "    \n",
    "        #conv 1\n",
    "        model.add(layers.BatchNormalization(momentum=momentum))\n",
    "        model.add(layers.Conv2DTranspose((num_filters//2)*self.channels, [2,5], padding=\"same\", activation=\"selu\")) #32 filters, each of the size of the input image\n",
    "        \n",
    "        #conv 2\n",
    "        model.add(layers.BatchNormalization(momentum=momentum))\n",
    "        model.add(layers.Conv2DTranspose((num_filters//4)*self.channels, [2,5], padding=\"same\", activation=\"selu\"))\n",
    "        \n",
    "        #conv final\n",
    "        model.add(layers.BatchNormalization(momentum=momentum))\n",
    "        model.add(layers.Conv2DTranspose(self.channels,strides=(2,2), kernel_size = [2,5], padding=\"same\", activation=\"tanh\")) #image\n",
    "\n",
    "        model.summary()\n",
    "\n",
    "        noise = layers.Input(shape=noise_shape)\n",
    "        img = model(noise)\n",
    "        return models.Model(noise, img)\n",
    "\n",
    "    def build_discriminator(self, alpha_leak=0.2):\n",
    "        img_shape = self.img_shape\n",
    "        dropout_rate = .2\n",
    "        n_filters = 64\n",
    "        dense_out = 1024\n",
    "        \n",
    "        input_img = Input(shape=img_shape)\n",
    "\n",
    "        t1 = layers.Conv2D(n_filters//2, (4,4), dilation_rate=(4,1), padding='same')(input_img) # beginning of 4 1/4 bars, across all phrases.\n",
    "        t1 = layers.LeakyReLU(alpha=0.01)(t1)\n",
    "        t2 = layers.Conv2D(n_filters//2, (4,4), dilation_rate=(8,1), padding='same')(input_img) # beginning of 4 1/2 bars, across all phrases.\n",
    "        t2 = layers.LeakyReLU(alpha=0.01)(t2)\n",
    "        t3 = layers.Conv2D(n_filters//2, (4,4), dilation_rate=(16,1), padding='same')(input_img) # beginning of every bar, across all phrases.\n",
    "        t3 = layers.LeakyReLU(alpha=0.01)(t3)\n",
    "        # updating towers t5 and t6 to look at phrases 1,2 and 3,4 instead\n",
    "        t4 = layers.Conv2D(n_filters//2, (4,2), dilation_rate=(8, 2), padding='same')(input_img)\n",
    "        t4 = layers.LeakyReLU(alpha=0.01)(t4)\n",
    "        t5 = layers.Conv2D(n_filters//2, (4,2), dilation_rate=(16,2), padding='same')(input_img)\n",
    "        t5 = layers.LeakyReLU(alpha=0.01)(t5)\n",
    "        t6 = layers.Conv2D(n_filters//2, (2,9), padding='same')(input_img)\n",
    "        t6 = layers.LeakyReLU(alpha=0.01)(t6)\n",
    "        \n",
    "#         t7 = layers.Conv2D(n_filters//2, (4,2), dilation_rate=(8, 1), padding='same')(input_img)\n",
    "#         t7 = layers.LeakyReLU(alpha=0.01)(t7)\n",
    "#         t8 = layers.Conv2D(n_filters//2, (4,2), dilation_rate=(16,1), padding='same')(input_img)\n",
    "#         t8 = layers.LeakyReLU(alpha=0.01)(t8)\n",
    "        \n",
    "        tower_1 = layers.concatenate([t1, t2, t3, t4, t5, t6], axis=-1)\n",
    "        \n",
    "        x = layers.Conv2D(n_filters, [3,3], strides=[2,2], padding=\"valid\")(tower_1)\n",
    "        x = layers.LeakyReLU(alpha=0.1)(x)\n",
    "        \n",
    "        x = layers.Flatten()(x)\n",
    "        x = layers.Dense(dense_out)(x)\n",
    "        x = layers.LeakyReLU(alpha=0.01)(x)\n",
    "        output = layers.Dense(1, activation=\"sigmoid\")(x)\n",
    "        model = Model(inputs=input_img, outputs=output)\n",
    "        model.summary()  \n",
    "        return model\n",
    "\n",
    "    def train(self, iterations, batch_size=64, sample_interval=750):\n",
    "        X_train = data\n",
    "        halfMaxPitch = (NOTE_MAX+NOTE_MIN)//2\n",
    "        pitchRange = NOTE_MAX - halfMaxPitch\n",
    "        X_train = (X_train.astype(np.float32) - halfMaxPitch) / pitchRange\n",
    "        X_train = np.expand_dims(X_train, axis=3)\n",
    "\n",
    "        for iteration in range(iterations+1):\n",
    "            for _ in range(1): #train discriminator more times\n",
    "                discriminator_loss = self.train_discriminator(X_train, batch_size=batch_size)              \n",
    "            generator_loss = self.train_generator(batch_size)\n",
    "\n",
    "            if(iteration % self.graphInterval):\n",
    "                self.dloss.append(discriminator_loss[0])\n",
    "                self.gloss.append(generator_loss)\n",
    "                self.intervals.append(iteration)\n",
    "\n",
    "            if iteration % sample_interval == 0:\n",
    "                display.clear_output(wait=True)    \n",
    "                print(\"{} [D loss: {}, acc.: {:.2f}%] [G loss: {}]\".format(\n",
    "                    iteration,\n",
    "                    discriminator_loss[0],\n",
    "                    100 * discriminator_loss[1],\n",
    "                    generator_loss))\n",
    "                print(X_train[0][0][0:7] * 0.5 + 0.5)\n",
    "                self.sample_images()\n",
    "\n",
    "        #self.plotLossHistory()\n",
    "\n",
    "    def train_discriminator(self, X_real, batch_size):\n",
    "        half_batch = batch_size // 2\n",
    "\n",
    "        discriminator_indices = np.random.randint(0, X_real.shape[0], half_batch)\n",
    "        discriminator_train_imgs = X_real[discriminator_indices]\n",
    "\n",
    "        noise = np.random.normal(0, 1, [half_batch, 100])\n",
    "        generated_imgs = self.generator.predict(noise)\n",
    "\n",
    "        discriminator_loss_real = self.discriminator.train_on_batch(discriminator_train_imgs, np.ones([half_batch, 1]))\n",
    "        discriminator_loss_gen = self.discriminator.train_on_batch(generated_imgs, np.zeros([half_batch, 1]))\n",
    "        # average the two losses\n",
    "        discriminator_loss = np.add(discriminator_loss_real, discriminator_loss_gen) / 2\n",
    "\n",
    "        return discriminator_loss\n",
    "\n",
    "    def train_generator(self, batch_size):\n",
    "        noise = np.random.normal(0, 1, [batch_size, 100])\n",
    "        valid_y = np.array([1] * batch_size)  # move generator towards desired validity\n",
    "\n",
    "        generator_loss = self.combined.train_on_batch(noise, valid_y)\n",
    "        return generator_loss\n",
    "      \n",
    "    def plotLossHistory(self):\n",
    "        plt.figure(figsize=[10,10])\n",
    "        plt.plot(self.intervals, self.dloss)\n",
    "        plt.plot(self.intervals, self.gloss)\n",
    "        plt.legend([\"Discriminator Loss\", \"Generator Loss\"])\n",
    "        plt.xlabel(\"Iteration\")\n",
    "        plt.ylabel(\"Loss\")\n",
    "        plt.ylim(ymin=0, ymax=15)\n",
    "        plt.show()\n",
    "\n",
    "    def sample_images(self):\n",
    "        rows, columns = 4, 4\n",
    "        noise = np.random.normal(0, 1, [rows * columns, 100])\n",
    "        \n",
    "        generated_imgs = self.generator.predict(noise)\n",
    "        generated_imgs = np.squeeze(generated_imgs, axis=3)\n",
    "        generated_imgs = 0.5 * generated_imgs + 0.5\n",
    "        \n",
    "        print(generated_imgs[0][0][0:7])\n",
    "        \n",
    "        random_real_indices = np.random.randint(0, data.shape[0], rows*columns)\n",
    "        real_imgs = data[random_real_indices]\n",
    "                                        \n",
    "        print(\"Real\")\n",
    "        fig, axs = plt.subplots(rows, columns, figsize=[10,10])\n",
    "        for row in range(rows):\n",
    "            for column in range(columns):\n",
    "                count = row * columns + column\n",
    "                axs[row, column].imshow(real_imgs[count, :, :], cmap='gray', aspect='auto')\n",
    "                axs[row, column].axis('off')\n",
    "\n",
    "        plt.show()\n",
    "                                        \n",
    "        print(\"Generated\")\n",
    "        fig, axs = plt.subplots(rows, columns, figsize=[10, 10])\n",
    "        for row in range(rows):\n",
    "            for column in range(columns):\n",
    "                count = row * columns + column\n",
    "                axs[row, column].imshow(generated_imgs[count, :, :], cmap='gray', aspect='auto')\n",
    "                axs[row, column].axis('off')\n",
    "\n",
    "        plt.show()\n",
    "        self.plotLossHistory()\n",
    "\n",
    "\n",
    "gan = GAN()"
   ]
  },
  {
   "cell_type": "markdown",
   "metadata": {
    "colab_type": "text",
    "id": "hhPxxFEMca1X"
   },
   "source": [
    "## Plot discriminator\n",
    "I didn't know keras could do this until recently. Isn't it pretty?"
   ]
  },
  {
   "cell_type": "code",
   "execution_count": null,
   "metadata": {
    "colab": {},
    "colab_type": "code",
    "id": "0BsMCEXY4_zf",
    "pycharm": {
     "is_executing": false
    }
   },
   "outputs": [],
   "source": [
    "keras.utils.plot_model(gan.discriminator, show_shapes=True)"
   ]
  },
  {
   "cell_type": "code",
   "execution_count": null,
   "metadata": {
    "colab": {
     "base_uri": "https://localhost:8080/",
     "height": 1000
    },
    "colab_type": "code",
    "id": "iukWNsSSLReZ",
    "outputId": "bf7cb378-d94f-4df4-b22e-164fe4fa3998",
    "pycharm": {
     "is_executing": false
    },
    "scrolled": false
   },
   "outputs": [
    {
     "name": "stdout",
     "output_type": "stream",
     "text": [
      "3000 [D loss: 0.047047704458236694, acc.: 98.44%] [G loss: 6.742854118347168]\n",
      "[[0.525]\n",
      " [0.525]\n",
      " [0.525]\n",
      " [0.525]\n",
      " [0.525]\n",
      " [0.525]\n",
      " [0.475]]\n",
      "[0.41558644 0.41348168 0.47856805 0.48441473 0.4336777  0.43419862\n",
      " 0.34266728]\n",
      "Real\n"
     ]
    },
    {
     "data": {
      "image/png": "[encoded data removed]",
      "text/plain": [
       "<Figure size 720x720 with 16 Axes>"
      ]
     },
     "metadata": {
      "needs_background": "light"
     },
     "output_type": "display_data"
    },
    {
     "name": "stdout",
     "output_type": "stream",
     "text": [
      "Generated\n"
     ]
    },
    {
     "data": {
      "image/png": "[encoded data removed]",
      "text/plain": [
       "<Figure size 720x720 with 16 Axes>"
      ]
     },
     "metadata": {
      "needs_background": "light"
     },
     "output_type": "display_data"
    },
    {
     "data": {
      "image/png": "[encoded data removed]",
      "text/plain": [
       "<Figure size 720x720 with 1 Axes>"
      ]
     },
     "metadata": {
      "needs_background": "light"
     },
     "output_type": "display_data"
    }
   ],
   "source": [
    "# with current settings it takes about ~5k iterations to get something decent\n",
    "# It becomes prone to collapse fairly quickly after it produces decent results\n",
    "iters = 4000\n",
    "gan.train(iterations=iters, sample_interval=500, batch_size=64)"
   ]
  },
  {
   "cell_type": "markdown",
   "metadata": {
    "colab_type": "text",
    "id": "V3EWrVMT_qoZ"
   },
   "source": [
    "## Save model"
   ]
  },
  {
   "cell_type": "code",
   "execution_count": null,
   "metadata": {
    "colab": {},
    "colab_type": "code",
    "id": "HpdWaGAo_wXN",
    "pycharm": {
     "is_executing": false
    }
   },
   "outputs": [],
   "source": [
    "gan.combined.save('./combined.h5')\n",
    "gan.generator.save('./generator.h5')\n",
    "gan.discriminator.save('./discriminator.h5')"
   ]
  },
  {
   "cell_type": "code",
   "execution_count": null,
   "metadata": {
    "colab": {},
    "colab_type": "code",
    "id": "uIpEMF-AXs0Q",
    "pycharm": {
     "is_executing": false
    }
   },
   "outputs": [],
   "source": [
    "#Round output values to available values in D major\n",
    "def samples_to_d_major(samples):\n",
    "  \n",
    "  def note_to_d_major(note):\n",
    "    d_maj_values = np.array([62, 64, 66, 67, 69, 71, 73]) - 60 #C is now at 0\n",
    "                            # D   E   F   G   A   B   C\n",
    "    octave = note // 12\n",
    "    noteInScale = note % 12\n",
    "\n",
    "    noteDistances = np.abs(d_maj_values - noteInScale)\n",
    "    roundedNote = d_maj_values[noteDistances.argmin()]\n",
    "    return roundedNote + 12*octave\n",
    "    \n",
    "  note_to_d_major = np.vectorize(note_to_d_major)\n",
    "  return note_to_d_major(samples).astype(np.int32)"
   ]
  },
  {
   "cell_type": "code",
   "execution_count": null,
   "metadata": {
    "colab": {},
    "colab_type": "code",
    "id": "1a9ulFqoMf9j",
    "pycharm": {
     "is_executing": false
    }
   },
   "outputs": [],
   "source": [
    "chars_as_num = {\n",
    "    'F,': 54,\n",
    "    'G,': 55,\n",
    "    'A,': 57,\n",
    "    'B,': 59,\n",
    "    'C,': 61,\n",
    "    'D': 62,\n",
    "    'E': 64,\n",
    "    'F': 66,\n",
    "    'G': 67,\n",
    "    'A': 69,\n",
    "    'B': 71,\n",
    "    'C': 73,\n",
    "    'd': 74,\n",
    "    'e': 76,\n",
    "    'f': 78,\n",
    "    'g': 79,\n",
    "    'a': 81,\n",
    "    'b': 83,\n",
    "    'c': 85,\n",
    "    'd\\'': 86,\n",
    "    'e\\'': 88,\n",
    "    'f\\'': 90\n",
    "}\n",
    "\n",
    "notes = {v:k for (k,v) in chars_as_num.items()}"
   ]
  },
  {
   "cell_type": "code",
   "execution_count": null,
   "metadata": {
    "colab": {},
    "colab_type": "code",
    "id": "VvVszEIaSQGv",
    "pycharm": {
     "is_executing": false
    }
   },
   "outputs": [],
   "source": [
    "gen = gan.generator\n",
    "noise = np.random.normal(0, 1, [1000, 100])\n",
    "samples = gen.predict(noise)\n",
    "samples = np.squeeze(samples,-1)\n",
    "halfMaxPitch = (NOTE_MAX+NOTE_MIN)//2\n",
    "pitchRange = NOTE_MAX - halfMaxPitch\n",
    "samples = (samples * pitchRange) + halfMaxPitch\n",
    "tunes_generated = np.rint(samples).astype(np.int)\n",
    "\n",
    "tunes_generated = samples_to_d_major(tunes_generated)"
   ]
  },
  {
   "cell_type": "code",
   "execution_count": null,
   "metadata": {
    "colab": {
     "base_uri": "https://localhost:8080/",
     "height": 731
    },
    "colab_type": "code",
    "id": "eiL5Sq2p3JFS",
    "outputId": "9b52bfab-6f95-428a-a31b-56e388962a60",
    "pycharm": {
     "is_executing": false
    }
   },
   "outputs": [],
   "source": [
    "calculateVariation(tunes_generated)\n",
    "print(\"Training dataset\")\n",
    "calculateVariation(data, plotMin=3.8, plotMax=6)\n",
    "print(\"Generated dataset\")\n",
    "calculateVariation(tunes_generated, plotMin=3.8, plotMax=6)\n",
    "print(\"Graphs are normed to a min value of 3.8 and a max value of 6\")"
   ]
  },
  {
   "cell_type": "code",
   "execution_count": null,
   "metadata": {
    "colab": {},
    "colab_type": "code",
    "id": "-xQf5xeDHb_e",
    "pycharm": {
     "is_executing": false
    }
   },
   "outputs": [],
   "source": [
    "notefreq = {}\n",
    "gennotefreq = {}\n",
    "\n",
    "for dat in tunes_generated:\n",
    "  \n",
    "  if dat[-1][-2] in gennotefreq:\n",
    "    gennotefreq[dat[-1][-2]] += 1\n",
    "  else:\n",
    "    gennotefreq[dat[-1][-2]] = 1\n",
    "    \n",
    "  if dat[-1][-4] in gennotefreq:\n",
    "    gennotefreq[dat[-1][-4]] += 1\n",
    "  else:\n",
    "    gennotefreq[dat[-1][-4]] = 1\n",
    "  \n",
    "for dat in data:  \n",
    "  \n",
    "  if dat[-1][-2] in notefreq:\n",
    "    notefreq[dat[-1][-2]] += 1\n",
    "  else:\n",
    "    notefreq[dat[-1][-2]] = 1\n",
    "    \n",
    "  if dat[-1][-4] in notefreq:\n",
    "    notefreq[dat[-1][-4]] += 1\n",
    "  else:\n",
    "    notefreq[dat[-1][-4]] = 1\n"
   ]
  },
  {
   "cell_type": "code",
   "execution_count": null,
   "metadata": {
    "colab": {
     "base_uri": "https://localhost:8080/",
     "height": 1000
    },
    "colab_type": "code",
    "id": "hHXiV8IfCbOJ",
    "outputId": "a19063c3-98ef-4add-93c9-ff9e68644f71",
    "pycharm": {
     "is_executing": false
    }
   },
   "outputs": [],
   "source": [
    "\n",
    "n = 0\n",
    "o = 0\n",
    "gn = 0\n",
    "go = 0\n",
    "    \n",
    "print(\"In key:\")\n",
    "for k in range(tunes_generated.min(), tunes_generated.max()):\n",
    "  if k in notes:\n",
    "    if k in gennotefreq:\n",
    "      print(\"\\tGenerated: {}: {:.2f}%\".format(notes[k], 50*gennotefreq[k]/tunes_generated.shape[0]))\n",
    "      gn += 50*gennotefreq[k]/tunes_generated.shape[0]\n",
    "    else:\n",
    "      print(\"\\tGenerated: {}: {:.2f}%\".format(notes[k], 0))\n",
    "    if k in notefreq:\n",
    "      print(\"\\tTraining:  {}: {:.2f}%\".format(notes[k], 50*notefreq[k]/data.shape[0]))\n",
    "      n += 50*notefreq[k]/data.shape[0]\n",
    "    else:\n",
    "      print(\"\\tTraining:  {}: {:.2f}%\".format(notes[k], 0))\n",
    "    print(\"\\n\")\n",
    "\n",
    "# print(gn,n)    \n",
    "    \n",
    "print(\"Not in key:\")\n",
    "\n",
    "\n",
    "for k in range(data.min(), data.max()):\n",
    "  if k not in notes and (k in gennotefreq or k in notefreq):\n",
    "    if k in gennotefreq:\n",
    "      print(\"\\tGenerated: {}: {:.2f}%\".format(k, 50*gennotefreq[k]/tunes_generated.shape[0]))\n",
    "      go += 50*gennotefreq[k]\n",
    "    if k in notefreq:\n",
    "      print(\"\\tTraining:  {}: {:.2f}%\".format(k, 50*notefreq[k]/data.shape[0]))\n",
    "      o += 50*notefreq[k]\n",
    "      \n",
    "# print(go/tunes_generated.shape[0], o/data.shape[0])"
   ]
  },
  {
   "cell_type": "code",
   "execution_count": null,
   "metadata": {
    "colab": {
     "base_uri": "https://localhost:8080/",
     "height": 71
    },
    "colab_type": "code",
    "id": "UXuR0HFIDdM9",
    "outputId": "5adba36b-6075-47e4-eeee-300f070f46a7",
    "pycharm": {
     "is_executing": false
    }
   },
   "outputs": [],
   "source": [
    "def nums_to_abc(nums):\n",
    "    chars = []\n",
    "#     print(nums)\n",
    "    for num in nums:\n",
    "        if num in notes:\n",
    "            chars.append(notes[num])\n",
    "        elif num > 83:\n",
    "            apostrophe_count = np.ceil((num - 83) / 12).astype(np.int32)\n",
    "            apostrophe_count = np.asscalar(apostrophe_count)\n",
    "            note = notes[num - 12*apostrophe_count]\n",
    "            apostrophes = \"\".join([\"'\"] * apostrophe_count)\n",
    "            chars.append(note + apostrophes)\n",
    "        elif num < 60:\n",
    "            comma_count = np.ceil((60 - num) / 12).astype(np.int32)\n",
    "            comma_count = np.asscalar(comma_count)\n",
    "            note = notes[num + 12*comma_count]\n",
    "            commas = \"\".join([\",\"] * comma_count)\n",
    "            chars.append(note + commas)\n",
    "        else:\n",
    "            print(\"ya fucked up: {} not in notes\".format(num))\n",
    "            \n",
    "    return chars\n",
    "  \n",
    "def tune_to_abc(tune):\n",
    "  bars = [nums_to_abc(bar) for bar in tune]\n",
    "  return bars\n",
    "\n",
    "tunes = [tune_to_abc(tune) for tune in tunes_generated]\n",
    "\n",
    "print(\"First 3 tunes\")\n",
    "print(tunes[:3])\n",
    "# print(tunes[10])"
   ]
  },
  {
   "cell_type": "code",
   "execution_count": null,
   "metadata": {
    "colab": {
     "base_uri": "https://localhost:8080/",
     "height": 54
    },
    "colab_type": "code",
    "id": "THA1x3YPX5xt",
    "outputId": "4b6b4f97-b902-4ee4-b54d-feacf8fe0371",
    "pycharm": {
     "is_executing": false
    }
   },
   "outputs": [],
   "source": [
    "cleantunes = []\n",
    "\n",
    "for num, tune in enumerate(tunes):\n",
    "  \n",
    "  newtune = []\n",
    "  \n",
    "  for bar in tune:\n",
    "    \n",
    "    newbars = []\n",
    "    \n",
    "    # split bar into fourths\n",
    "    \n",
    "    for i in range(0, 64, 4):\n",
    "      \n",
    "      newbar = bar[i:i+4]\n",
    "      compressed = []\n",
    "      \n",
    "      if i % 16 == 0 and i != 0:\n",
    "        compressed.append(\"|\")\n",
    "      \n",
    "      j = 0\n",
    "      count = 1\n",
    "      note = None\n",
    "      \n",
    "      while j < len(newbar):\n",
    "        \n",
    "        if note != newbar[j]:\n",
    "          if count > 1:\n",
    "            compressed.append(str(count))\n",
    "            count = 1\n",
    "          note = newbar[j]\n",
    "          compressed.append(newbar[j])\n",
    "        else:\n",
    "          count += 1\n",
    "        j += 1\n",
    "      if count > 1:\n",
    "        compressed.append(str(count))\n",
    "      \n",
    "      newbars.append(\"\".join(compressed))\n",
    "  \n",
    "    newtune.append(\"\".join(newbars))\n",
    "    \n",
    "  cleantunes.append(\"||\".join(newtune))\n",
    "  \n",
    "print(cleantunes[:2])"
   ]
  },
  {
   "cell_type": "code",
   "execution_count": null,
   "metadata": {
    "colab": {
     "base_uri": "https://localhost:8080/",
     "height": 85
    },
    "colab_type": "code",
    "id": "D8zv8vQQxrLZ",
    "outputId": "251cd7b4-5f83-4576-885e-153ebf1e65ea",
    "pycharm": {
     "is_executing": false
    }
   },
   "outputs": [],
   "source": [
    "import pandas as pd\n",
    "df = pd.DataFrame({'tunes': cleantunes})\n",
    "df.to_csv(\"./../data/generated/clean_generated_tunes.csv\")\n"
   ]
  },
  {
   "cell_type": "code",
   "execution_count": null,
   "metadata": {
    "colab": {
     "base_uri": "https://localhost:8080/",
     "height": 324
    },
    "colab_type": "code",
    "id": "-TWrf7p7sUId",
    "outputId": "8fc4f81e-3cfe-49ab-ceac-0f21ff95bd95",
    "pycharm": {
     "is_executing": false
    }
   },
   "outputs": [],
   "source": [
    "plt.figure(figsize=[10, 5])\n",
    "plt.axis('off')\n",
    "plt.imshow(data[np.random.randint(0, data.shape[0])], cmap='gray', aspect='auto')\n",
    "plt.show()"
   ]
  },
  {
   "cell_type": "code",
   "execution_count": null,
   "metadata": {
    "colab": {},
    "colab_type": "code",
    "id": "bFKTOK1uXIJk",
    "pycharm": {
     "is_executing": false
    }
   },
   "outputs": [],
   "source": []
  }
 ],
 "metadata": {
  "accelerator": "GPU",
  "colab": {
   "collapsed_sections": [],
   "name": "MusicGAN - Tower Edition.ipynb",
   "provenance": []
  },
  "kernelspec": {
   "display_name": "Python 3",
   "language": "python",
   "name": "python3"
  },
  "language_info": {
   "codemirror_mode": {
    "name": "ipython",
    "version": 3
   },
   "file_extension": ".py",
   "mimetype": "text/x-python",
   "name": "python",
   "nbconvert_exporter": "python",
   "pygments_lexer": "ipython3",
   "version": "3.6.8"
  }
 },
 "nbformat": 4,
 "nbformat_minor": 1
}
