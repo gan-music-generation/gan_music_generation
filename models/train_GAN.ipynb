{
  "nbformat": 4,
  "nbformat_minor": 0,
  "metadata": {
    "colab": {
      "name": "MusicGAN - Tower Edition.ipynb",
      "provenance": [],
      "collapsed_sections": []
    },
    "language_info": {
      "codemirror_mode": {
        "name": "ipython",
        "version": 3
      },
      "file_extension": ".py",
      "mimetype": "text/x-python",
      "name": "python",
      "nbconvert_exporter": "python",
      "pygments_lexer": "ipython3",
      "version": "3.6.8"
    },
    "kernelspec": {
      "name": "python3",
      "display_name": "Python 3"
    },
    "accelerator": "GPU"
  },
  "cells": [
    {
      "cell_type": "markdown",
      "metadata": {
        "colab_type": "text",
        "id": "wmqavs_njSbD"
      },
      "source": [
        "# **Simple GAN to generate music**"
      ]
    },
    {
      "cell_type": "markdown",
      "metadata": {
        "colab_type": "text",
        "id": "frvU56lTdiR3"
      },
      "source": [
        "## Imports and constant params"
      ]
    },
    {
      "cell_type": "code",
      "metadata": {
        "colab_type": "code",
        "id": "GuRpG25wdjjk",
        "colab": {}
      },
      "source": [
        "import tensorflow as tf\n",
        "from tensorflow import keras\n",
        "from tensorflow.keras import layers\n",
        "from tensorflow.keras import Input\n",
        "from tensorflow.keras import optimizers\n",
        "from tensorflow.keras import models, Model\n",
        "from tensorflow.keras.layers import LeakyReLU\n",
        "from tensorflow.keras.datasets import mnist\n",
        "import matplotlib.pyplot as plt\n",
        "import numpy as np\n",
        "from IPython import display\n",
        "\n",
        "# Install the PyDrive wrapper & import libraries.\n",
        "# This only needs to be done once in a notebook.\n",
        "!pip install -U -q PyDrive\n",
        "from pydrive.auth import GoogleAuth\n",
        "from pydrive.drive import GoogleDrive\n",
        "from google.colab import auth\n",
        "from oauth2client.client import GoogleCredentials\n",
        "\n",
        "NOTE_MIN = 53\n",
        "NOTE_MAX = 93\n",
        "DOWNLOAD = True"
      ],
      "execution_count": 0,
      "outputs": []
    },
    {
      "cell_type": "code",
      "metadata": {
        "id": "8dNRQSOi8oF2",
        "colab_type": "code",
        "outputId": "2e8d73d3-b01c-4070-f7e8-85320642ed2f",
        "colab": {
          "base_uri": "https://localhost:8080/",
          "height": 34
        }
      },
      "source": [
        "tf.__version__"
      ],
      "execution_count": 0,
      "outputs": [
        {
          "output_type": "execute_result",
          "data": {
            "text/plain": [
              "'1.14.0'"
            ]
          },
          "metadata": {
            "tags": []
          },
          "execution_count": 2
        }
      ]
    },
    {
      "cell_type": "markdown",
      "metadata": {
        "colab_type": "text",
        "id": "TYywD5ZrdYxV"
      },
      "source": [
        "## Retrieve data \n",
        "Can be uploaded directly to the notebook or downloaded from dropbox"
      ]
    },
    {
      "cell_type": "code",
      "metadata": {
        "id": "fDerH1QCLYcv",
        "colab_type": "code",
        "outputId": "744340b7-fbee-4a85-d154-456f9437a25c",
        "colab": {
          "base_uri": "https://localhost:8080/",
          "height": 34
        }
      },
      "source": [
        "dropbox_link = \"https://www.dropbox.com/s/72b7bsjxbe3ibxc/June_Fixes_Notes.npy?dl=0\"\n",
        "if DOWNLOAD or datafile is None:\n",
        "  dropbox_link = dropbox_link.replace(\"www.dropbox.com\", \"dl.dropboxusercontent.com\", 1)\n",
        "  import requests, zipfile, io, os\n",
        "  r = requests.get(dropbox_link)\n",
        "  datafile = io.BytesIO(r.content)\n",
        "  print(\"Download complete\")"
      ],
      "execution_count": 0,
      "outputs": [
        {
          "output_type": "stream",
          "text": [
            "Download complete\n"
          ],
          "name": "stdout"
        }
      ]
    },
    {
      "cell_type": "code",
      "metadata": {
        "colab_type": "code",
        "id": "R8F7nPs3deDh",
        "colab": {}
      },
      "source": [
        "# data = np.load(\"{}.npy\".format('June_Fixes_Notes'),  allow_pickle=True) # if uploaded\n",
        "raw_data = np.load(datafile, allow_pickle=True) # if downloaded"
      ],
      "execution_count": 0,
      "outputs": []
    },
    {
      "cell_type": "code",
      "metadata": {
        "id": "6QjqXrYZNkVm",
        "colab_type": "code",
        "outputId": "5d0fa240-862c-4f0b-f9ae-0a20cc0cdd94",
        "colab": {
          "base_uri": "https://localhost:8080/",
          "height": 918
        }
      },
      "source": [
        "print(\"Loaded data\")\n",
        "print(\"Shape: {}\".format(raw_data.shape))\n",
        "print(\"First Entry:\", end=\"\\n\\n\")\n",
        "print(raw_data[2])"
      ],
      "execution_count": 0,
      "outputs": [
        {
          "output_type": "stream",
          "text": [
            "Loaded data\n",
            "Shape: (3468,)\n",
            "First Entry:\n",
            "\n",
            "[[81 81 79 79  0  0  0  0  0  0  0  0  0  0  0  0]\n",
            " [78 78 81 81 76 76 78 78 74 74 76 76 69 69 66 66]\n",
            " [62 62 66 66 69 69 74 74 78 78 78 78 76 76 78 78]\n",
            " [79 79 83 83 76 76 79 79 74 74 76 76 69 69 66 66]\n",
            " [67 67 71 71 69 69 67 67 64 64 64 64 81 81 79 79]\n",
            " [78 78 81 81 76 76 78 78 74 74 76 76 69 69 66 66]\n",
            " [62 62 66 66 69 69 74 74 78 78 78 78 76 76 78 78]\n",
            " [79 79 78 78 76 76 74 74 72 72 69 69 71 71 72 72]\n",
            " [74 74 74 74 78 78 78 78 74 74 74 74 81 81 79 79]\n",
            " [78 78 81 81 76 76 78 78 74 74 76 76 69 69 66 66]\n",
            " [62 62 66 66 69 69 74 74 78 78 78 78 76 76 78 78]\n",
            " [79 79 83 83 76 76 79 79 74 74 76 76 69 69 66 66]\n",
            " [67 67 71 71 69 69 67 67 64 64 64 64 81 81 79 79]\n",
            " [78 78 81 81 76 76 78 78 74 74 76 76 69 69 66 66]\n",
            " [62 62 66 66 69 69 74 74 78 78 78 78 76 76 78 78]\n",
            " [79 79 78 78 76 76 74 74 72 72 69 69 71 71 72 72]\n",
            " [74 74 74 74 78 78 78 78 74 74 74 74 62 62 64 64]\n",
            " [67 67 66 66 67 67 69 69 71 71 72 72 74 74 76 76]\n",
            " [78 78 79 79 78 78 76 76 74 74 72 72 74 74 71 71]\n",
            " [69 69 69 69 78 78 78 78 78 78 76 76 78 78 78 78]\n",
            " [67 67 67 67 76 76 76 76 76 76 74 74 76 76 76 76]\n",
            " [67 67 66 66 67 67 69 69 71 71 72 72 74 74 76 76]\n",
            " [78 78 79 79 78 78 76 76 74 74 72 72 74 74 71 71]\n",
            " [69 69 78 78 76 76 74 74 72 72 69 69 71 71 72 72]\n",
            " [74 74 74 74 78 78 78 78 74 74 74 74 62 62 64 64]\n",
            " [67 67 66 66 67 67 69 69 71 71 72 72 74 74 76 76]\n",
            " [78 78 79 79 78 78 76 76 74 74 72 72 74 74 71 71]\n",
            " [69 69 69 69 78 78 78 78 78 78 76 76 78 78 78 78]\n",
            " [67 67 67 67 76 76 76 76 76 76 74 74 76 76 76 76]\n",
            " [67 67 66 66 67 67 69 69 71 71 72 72 74 74 76 76]\n",
            " [78 78 79 79 78 78 76 76 74 74 72 72 74 74 71 71]\n",
            " [69 69 78 78 76 76 74 74 72 72 69 69 71 71 72 72]\n",
            " [74 74 74 74 78 78 78 78 74 74 74 74 81 81 79 79]\n",
            " [78 78 79 79 76 76 78 78 74 74 76 76 72 72 74 74]\n",
            " [71 71 72 72 69 69 71 71 67 67 67 67 83 83 81 81]\n",
            " [79 79 81 81 78 78 79 79 76 76 78 78 74 74 76 76]\n",
            " [72 72 74 74 71 71 72 72 69 69 69 69 81 81 79 79]\n",
            " [78 78 79 79 76 76 78 78 74 74 76 76 72 72 74 74]\n",
            " [71 71 72 72 69 69 71 71 67 67 69 69 66 66 67 67]\n",
            " [64 64 78 78 76 76 74 74 72 72 69 69 71 71 72 72]\n",
            " [74 74 74 74 78 78 78 78 74 74 74 74 81 81 79 79]\n",
            " [78 78 79 79 76 76 78 78 74 74 76 76 72 72 74 74]\n",
            " [71 71 72 72 69 69 71 71 67 67 67 67 83 83 81 81]\n",
            " [79 79 81 81 78 78 79 79 76 76 78 78 74 74 76 76]\n",
            " [72 72 74 74 71 71 72 72 69 69 69 69 81 81 79 79]\n",
            " [78 78 79 79 76 76 78 78 74 74 76 76 72 72 74 74]\n",
            " [71 71 72 72 69 69 71 71 67 67 69 69 66 66 67 67]\n",
            " [64 64 78 78 76 76 74 74 72 72 69 69 71 71 72 72]\n",
            " [74 74 74 74 78 78 78 78 74 74 74 74  0  0  0  0]]\n"
          ],
          "name": "stdout"
        }
      ]
    },
    {
      "cell_type": "markdown",
      "metadata": {
        "colab_type": "text",
        "id": "6A-U5j5Ng38k"
      },
      "source": [
        "## Reshape data"
      ]
    },
    {
      "cell_type": "code",
      "metadata": {
        "colab_type": "code",
        "id": "pYNpQZJTg6Vc",
        "outputId": "ce67d719-a8be-4ea2-9584-005eeb19d218",
        "colab": {
          "base_uri": "https://localhost:8080/",
          "height": 272
        }
      },
      "source": [
        "print(\"Old shape: {}\".format(raw_data.shape))\n",
        "numOfBars = np.array([tune.shape[0] for tune in raw_data])\n",
        "# Tunes with a pickup bar, have the pickup bar padded\n",
        "# with zeros to 16 notes.\n",
        "notesPerBar = np.array([tune.shape[1] for tune in raw_data])\n",
        "data = raw_data[(numOfBars >= 16) & (notesPerBar == 16)]\n",
        "\n",
        "newdata = []\n",
        "\n",
        "for index, tune in enumerate(data):\n",
        "    if len(tune) == 16:\n",
        "      newdata.append(tune.tolist())\n",
        "    if len(tune) == 17:\n",
        "      newdata.append(tune[1:].tolist())\n",
        "    \n",
        "data = newdata\n",
        "data = np.array(data).reshape([-1, 4, 16*4])\n",
        "data = np.clip(data, 0, 127) #subzero makes no sense\n",
        "\n",
        "print(data[0])\n",
        "print(\"Min/Max: \", data.min(), data.max())\n",
        "print(\"New shape: {}\".format(data.shape))"
      ],
      "execution_count": 0,
      "outputs": [
        {
          "output_type": "stream",
          "text": [
            "Old shape: (3468,)\n",
            "[[74 74 74 74 74 74 72 72 74 74 69 69 65 65 69 69 74 74 74 74 74 74 72 72\n",
            "  74 74 77 77 75 75 72 72 74 74 74 74 74 74 72 72 74 74 69 69 65 65 69 69\n",
            "  67 67 65 65 63 63 65 65 67 67 69 69 70 70 72 72]\n",
            " [74 74 74 74 74 74 72 72 74 74 69 69 65 65 69 69 74 74 74 74 74 74 72 72\n",
            "  74 74 77 77 75 75 79 79 77 77 74 74 75 75 72 72 74 74 69 69 65 65 69 69\n",
            "  67 67 65 65 63 63 65 65 67 67 70 70 69 69 67 67]\n",
            " [65 65 62 62 69 69 62 62 70 70 62 62 69 69 62 62 65 65 62 62 69 69 62 62\n",
            "  67 67 70 70 69 69 67 67 65 65 62 62 69 69 62 62 70 70 62 62 69 69 62 62\n",
            "  67 67 65 65 63 63 65 65 67 67 70 70 69 69 67 67]\n",
            " [65 65 62 62 69 69 62 62 70 70 62 62 69 69 62 62 65 65 62 62 69 69 62 62\n",
            "  67 67 70 70 69 69 67 67 65 65 69 69 74 74 77 77 75 75 72 72 74 74 69 69\n",
            "  67 67 65 65 63 63 65 65 67 67 69 69 70 70 72 72]]\n",
            "Min/Max:  0 93\n",
            "New shape: (1076, 4, 64)\n"
          ],
          "name": "stdout"
        }
      ]
    },
    {
      "cell_type": "code",
      "metadata": {
        "id": "nH0oUIHPlHVb",
        "colab_type": "code",
        "outputId": "d5359622-e773-46ea-c839-e23ef4e1cf29",
        "colab": {
          "base_uri": "https://localhost:8080/",
          "height": 51
        }
      },
      "source": [
        "tunes_nonzero = []\n",
        "for tune in data:\n",
        "  if np.any(tune<NOTE_MIN): continue\n",
        "  tunes_nonzero.append(tune)\n",
        "data = np.array(tunes_nonzero)\n",
        "print(data.shape, data.min(), data.max())\n",
        "print(data.mean())"
      ],
      "execution_count": 0,
      "outputs": [
        {
          "output_type": "stream",
          "text": [
            "(820, 4, 64) 53 93\n",
            "74.54727991615853\n"
          ],
          "name": "stdout"
        }
      ]
    },
    {
      "cell_type": "code",
      "metadata": {
        "id": "vk2egE7GlqEs",
        "colab_type": "code",
        "colab": {}
      },
      "source": [
        "# data = np.array(data).reshape([820, 256])\n",
        "# data.shape\n",
        "# data[0]\n"
      ],
      "execution_count": 0,
      "outputs": []
    },
    {
      "cell_type": "code",
      "metadata": {
        "id": "r457mqOokI5k",
        "colab_type": "code",
        "colab": {}
      },
      "source": [
        "# indeces = [0, 16, 32, 64, 80, 96, 112, 128, 144, 160, 192, 208, 224, 240]\n",
        "# fda = [54, 57, 62, 66, 69, 94, 78, 81, 86]\n",
        "\n",
        "# yes = 0\n",
        "# no = 0\n",
        "\n",
        "# for dat in data:\n",
        "#   count = 0\n",
        "#   for i, note in enumerate(dat):\n",
        "#     if i in indeces and note in fda:\n",
        "#       count += 1\n",
        "#   if count > len(indeces)/2:\n",
        "#     yes += 1\n",
        "#   else:\n",
        "#     no += 1\n",
        "\n",
        "# both = yes + no    \n",
        "    \n",
        "# print(100*yes/both, 100*no/both)"
      ],
      "execution_count": 0,
      "outputs": []
    },
    {
      "cell_type": "code",
      "metadata": {
        "id": "LuMUk_H3OU00",
        "colab_type": "code",
        "outputId": "8f9ceab7-f257-48e2-c128-4397f713d58a",
        "colab": {
          "base_uri": "https://localhost:8080/",
          "height": 595
        }
      },
      "source": [
        "# data[0][-1][-1]\n",
        "\n",
        "notefreq = {}\n",
        "for dat in data:\n",
        "  if dat[0][-4] in notefreq:\n",
        "    notefreq[dat[0][-4]] += 1\n",
        "  else:\n",
        "    notefreq[dat[0][-4]] = 1\n",
        "\n",
        "# 2 2 1 2 2 2 1\n",
        "    \n",
        "chars_as_num = {\n",
        "    'F,': 54,\n",
        "    'G,': 55,\n",
        "    'A,': 57,\n",
        "    'B,': 59,\n",
        "    'C': 61,\n",
        "    'D': 62,\n",
        "    'E': 64,\n",
        "    'F': 66,\n",
        "    'G': 67,\n",
        "    'A': 69,\n",
        "    'B': 71,\n",
        "    'c': 73,\n",
        "    'd': 74,\n",
        "    'e': 76,\n",
        "    'f': 78,\n",
        "    'g': 79,\n",
        "    'a': 81,\n",
        "    'b': 83,\n",
        "    'c\\'': 85,\n",
        "    'd\\'': 86,\n",
        "    'e\\'': 88,\n",
        "    'f\\'': 90\n",
        "}\n",
        "\n",
        "notes = {v:k for (k,v) in chars_as_num.items()}\n",
        "print(\"In key:\")\n",
        "for k in range(data.min(), data.max()):\n",
        "  if k in notes:\n",
        "    if k in notefreq:\n",
        "      print(\"\\t{}: {:.2f}%\".format(notes[k], 100*notefreq[k]/data.shape[0]))\n",
        "    else:\n",
        "      print(\"\\t{}: {:.2f}%\".format(notes[k], 0))\n",
        "print(\"Not in key:\")\n",
        "notinkey = 0\n",
        "for k in range(data.min(), data.max()):\n",
        "  if k not in notes:\n",
        "    if k in notefreq:\n",
        "      notinkey += notefreq[k]\n",
        "      print(\"\\t{}: {:.2f}%\".format(k, 100*notefreq[k]/data.shape[0]))\n",
        "print(\"{}: {:.2f}%\".format(\"Total out of key\", 100*notinkey/data.shape[0]))  "
      ],
      "execution_count": 0,
      "outputs": [
        {
          "output_type": "stream",
          "text": [
            "In key:\n",
            "\tF,: 0.00%\n",
            "\tG,: 0.00%\n",
            "\tA,: 0.73%\n",
            "\tB,: 1.34%\n",
            "\tC: 0.00%\n",
            "\tD: 12.07%\n",
            "\tE: 3.90%\n",
            "\tF: 3.41%\n",
            "\tG: 1.83%\n",
            "\tA: 10.85%\n",
            "\tB: 8.41%\n",
            "\tc: 0.37%\n",
            "\td: 27.56%\n",
            "\te: 9.51%\n",
            "\tf: 4.88%\n",
            "\tg: 2.68%\n",
            "\ta: 4.02%\n",
            "\tb: 1.22%\n",
            "\tc': 0.00%\n",
            "\td': 1.83%\n",
            "\te': 0.12%\n",
            "\tf': 0.00%\n",
            "Not in key:\n",
            "\t58: 0.24%\n",
            "\t60: 0.37%\n",
            "\t63: 0.85%\n",
            "\t65: 0.37%\n",
            "\t70: 0.24%\n",
            "\t72: 2.32%\n",
            "\t75: 0.24%\n",
            "\t80: 0.12%\n",
            "\t84: 0.49%\n",
            "Total out of key: 5.24%\n"
          ],
          "name": "stdout"
        }
      ]
    },
    {
      "cell_type": "code",
      "metadata": {
        "id": "j9hubkLSTRO5",
        "colab_type": "code",
        "outputId": "cbf94355-6aa9-45cf-c1b7-b3ee3cbe5cf6",
        "colab": {
          "base_uri": "https://localhost:8080/",
          "height": 153
        }
      },
      "source": [
        "quarter = 0\n",
        "eigth = 0\n",
        "sixteenth = 0\n",
        "quarterinkey = 0\n",
        "eigthinkey = 0\n",
        "sixteenthinkey = 0\n",
        "\n",
        "for dat in data:\n",
        "  if dat[-4][-1] == dat[-4][-4]:\n",
        "    quarter += 1\n",
        "    if dat[-4][-1] == 62 or dat[-4][-1] == 74:\n",
        "      quarterinkey += 1\n",
        "  elif dat[-4][-1] == dat[-4][-2]:\n",
        "    eigth += 1\n",
        "    if dat[-4][-4] == 62 or dat[-4][-4] == 74 or dat[-4][-2] == 62 or dat[-4][-2] == 74:\n",
        "      eigthinkey += 1\n",
        "  else:\n",
        "    sixteenth += 1\n",
        "    if dat[-4][-4] == 62 or dat[-4][-4] == 74 or dat[-4][-2] == 62 or dat[-4][-2] == 74 or dat[-4][-1] == 62 or dat[-4][-1] == 74:\n",
        "      sixteenthinkey += 1\n",
        "    \n",
        "quarter = 100*quarter/data.shape[0]\n",
        "eigth = 100*eigth/data.shape[0]\n",
        "sixteenth = 100*sixteenth/data.shape[0]\n",
        "quarterinkey = 100*quarterinkey/data.shape[0]\n",
        "eigthinkey = 100*eigthinkey/data.shape[0]\n",
        "sixteenthinkey = 100*sixteenthinkey/data.shape[0]\n",
        "    \n",
        "print(\"1/4: {:.2f}%\\n1/8: {:.2f}%\\n1/16: {:.2f}%\".format(quarter, eigth, sixteenth))\n",
        "print(\"\\nIn key:\\n1/4: {:.2f}% ({:.2f}%)\\n1/8: {:.2f}% ({:.2f}%)\\n1/16: {:.2f}% ({:.2f}%)\".format(quarterinkey, 100*quarterinkey/quarter, eigthinkey, 100*eigthinkey/eigth, sixteenthinkey, 100*sixteenthinkey/sixteenth))"
      ],
      "execution_count": 0,
      "outputs": [
        {
          "output_type": "stream",
          "text": [
            "1/4: 37.44%\n",
            "1/8: 62.07%\n",
            "1/16: 0.49%\n",
            "\n",
            "In key:\n",
            "1/4: 21.95% (58.63%)\n",
            "1/8: 22.56% (36.35%)\n",
            "1/16: 0.24% (50.00%)\n"
          ],
          "name": "stdout"
        }
      ]
    },
    {
      "cell_type": "markdown",
      "metadata": {
        "id": "rlA2N76xplaO",
        "colab_type": "text"
      },
      "source": [
        "### Calculate variation across images"
      ]
    },
    {
      "cell_type": "code",
      "metadata": {
        "id": "ocMjhZ5LpiRo",
        "colab_type": "code",
        "outputId": "a80f286a-236f-4f25-be02-184886759fc9",
        "colab": {
          "base_uri": "https://localhost:8080/",
          "height": 238
        }
      },
      "source": [
        "def calculateVariation(data, plotMin=None, plotMax=None):\n",
        "  mad = np.abs(data - data.mean(axis=0)).mean(axis=0)\n",
        "  print(\"Mean Absolute Deviation:\")\n",
        "  print(\"Max:\", f\"{mad.max():.2f}\")\n",
        "  print(\"Min:\", f\"{mad.min():.2f}\")\n",
        "\n",
        "  plt.figure(figsize=[5, 2.5])\n",
        "  plt.imshow(mad, cmap='gray', aspect='auto', vmin=plotMin, vmax=plotMax)\n",
        "  plt.show()\n",
        "  \n",
        "calculateVariation(data, plotMin=3.8, plotMax=6)"
      ],
      "execution_count": 0,
      "outputs": [
        {
          "output_type": "stream",
          "text": [
            "Mean Absolute Deviation:\n",
            "Max: 5.61\n",
            "Min: 4.32\n"
          ],
          "name": "stdout"
        },
        {
          "output_type": "display_data",
          "data": {
            "image/png": "[encoded data removed]",
            "text/plain": [
              "<Figure size 360x180 with 1 Axes>"
            ]
          },
          "metadata": {
            "tags": []
          }
        }
      ]
    },
    {
      "cell_type": "markdown",
      "metadata": {
        "colab_type": "text",
        "id": "8u81a4HO7Je3"
      },
      "source": [
        "## Make GAN"
      ]
    },
    {
      "cell_type": "code",
      "metadata": {
        "id": "4qz50i0617f1",
        "colab_type": "code",
        "outputId": "383cb3d2-7c7d-4ef5-f4cc-95a6b51177e9",
        "colab": {
          "base_uri": "https://localhost:8080/",
          "height": 1000
        }
      },
      "source": [
        "class GAN():\n",
        "    def __init__(self):\n",
        "        self.img_dim = [4, 64] #RHS of sum is padding\n",
        "        self.channels = 1\n",
        "        self.img_shape = [*self.img_dim, self.channels]\n",
        "        self.noise_shape = [100, ]\n",
        "\n",
        "        self.gloss = []\n",
        "        self.dloss = []\n",
        "        self.intervals = []\n",
        "        self.graphInterval = 50\n",
        "\n",
        "        optimizer = optimizers.Adam()\n",
        "\n",
        "        self.discriminator = self.build_discriminator()\n",
        "        self.discriminator.compile(loss='binary_crossentropy',\n",
        "                                   optimizer=optimizer,\n",
        "                                   metrics=['accuracy'])\n",
        "\n",
        "        self.generator = self.build_generator()\n",
        "\n",
        "        noise = layers.Input(shape=self.noise_shape)\n",
        "        img = self.generator(noise)\n",
        "\n",
        "        self.discriminator.trainable = False\n",
        "\n",
        "        valid = self.discriminator(img)\n",
        "\n",
        "        self.combined = models.Model(inputs=noise, outputs=valid)\n",
        "        self.combined.compile(loss='binary_crossentropy', optimizer=optimizer)\n",
        "\n",
        "    def build_generator(self, momentum=0.8, alpha_leak=0.2):\n",
        "        noise_shape = self.noise_shape\n",
        "        num_filters = 256\n",
        "        model = models.Sequential()\n",
        "\n",
        "        #dense in, reshape\n",
        "        model.add(layers.Dense(self.img_dim[0]//2 * self.img_dim[1]//2 * num_filters, input_shape=noise_shape, activation = \"selu\"))\n",
        "        model.add(layers.Reshape([(self.img_dim[0]//2),(self.img_dim[1]//2), num_filters*self.channels]))\n",
        "    \n",
        "        #conv 1\n",
        "        model.add(layers.BatchNormalization(momentum=momentum))\n",
        "        model.add(layers.Conv2DTranspose((num_filters//2)*self.channels, [2,5], padding=\"same\", activation=\"selu\")) #32 filters, each of the size of the input image\n",
        "        \n",
        "        #conv 2\n",
        "        model.add(layers.BatchNormalization(momentum=momentum))\n",
        "        model.add(layers.Conv2DTranspose((num_filters//4)*self.channels, [2,5], padding=\"same\", activation=\"selu\"))\n",
        "        \n",
        "        #conv final\n",
        "        model.add(layers.BatchNormalization(momentum=momentum))\n",
        "        model.add(layers.Conv2DTranspose(self.channels,strides=(2,2), kernel_size = [2,5], padding=\"same\", activation=\"tanh\")) #image\n",
        "\n",
        "        model.summary()\n",
        "\n",
        "        noise = layers.Input(shape=noise_shape)\n",
        "        img = model(noise)\n",
        "        return models.Model(noise, img)\n",
        "\n",
        "    def build_discriminator(self, alpha_leak=0.2):\n",
        "        img_shape = self.img_shape\n",
        "        dropout_rate = .2\n",
        "        n_filters = 64\n",
        "        dense_out = 1024\n",
        "        \n",
        "        input_img = Input(shape=img_shape)\n",
        "\n",
        "        t1 = layers.Conv2D(n_filters//2, (4,4), dilation_rate=(4,1), padding='same')(input_img) # beginning of 4 1/4 bars, across all phrases.\n",
        "        t1 = layers.LeakyReLU(alpha=0.01)(t1)\n",
        "        t2 = layers.Conv2D(n_filters//2, (4,4), dilation_rate=(8,1), padding='same')(input_img) # beginning of 4 1/2 bars, across all phrases.\n",
        "        t2 = layers.LeakyReLU(alpha=0.01)(t2)\n",
        "        t3 = layers.Conv2D(n_filters//2, (4,4), dilation_rate=(16,1), padding='same')(input_img) # beginning of every bar, across all phrases.\n",
        "        t3 = layers.LeakyReLU(alpha=0.01)(t3)\n",
        "        # updating towers t5 and t6 to look at phrases 1,2 and 3,4 instead\n",
        "        t4 = layers.Conv2D(n_filters//2, (4,2), dilation_rate=(8, 2), padding='same')(input_img)\n",
        "        t4 = layers.LeakyReLU(alpha=0.01)(t4)\n",
        "        t5 = layers.Conv2D(n_filters//2, (4,2), dilation_rate=(16,2), padding='same')(input_img)\n",
        "        t5 = layers.LeakyReLU(alpha=0.01)(t5)\n",
        "        t6 = layers.Conv2D(n_filters//2, (2,9), padding='same')(input_img)\n",
        "        t6 = layers.LeakyReLU(alpha=0.01)(t6)\n",
        "        \n",
        "#         t7 = layers.Conv2D(n_filters//2, (4,2), dilation_rate=(8, 1), padding='same')(input_img)\n",
        "#         t7 = layers.LeakyReLU(alpha=0.01)(t7)\n",
        "#         t8 = layers.Conv2D(n_filters//2, (4,2), dilation_rate=(16,1), padding='same')(input_img)\n",
        "#         t8 = layers.LeakyReLU(alpha=0.01)(t8)\n",
        "        \n",
        "        tower_1 = layers.concatenate([t1, t2, t3, t4, t5, t6], axis=-1)\n",
        "        \n",
        "        x = layers.Conv2D(n_filters, [3,3], strides=[2,2], padding=\"valid\")(tower_1)\n",
        "        x = layers.LeakyReLU(alpha=0.1)(x)\n",
        "        \n",
        "        x = layers.Flatten()(x)\n",
        "        x = layers.Dense(dense_out)(x)\n",
        "        x = layers.LeakyReLU(alpha=0.01)(x)\n",
        "        output = layers.Dense(1, activation=\"sigmoid\")(x)\n",
        "        model = Model(inputs=input_img, outputs=output)\n",
        "        model.summary()  \n",
        "        return model\n",
        "\n",
        "    def train(self, iterations, batch_size=64, sample_interval=750):\n",
        "        X_train = data\n",
        "        halfMaxPitch = (NOTE_MAX+NOTE_MIN)//2\n",
        "        pitchRange = NOTE_MAX - halfMaxPitch\n",
        "        X_train = (X_train.astype(np.float32) - halfMaxPitch) / pitchRange\n",
        "        X_train = np.expand_dims(X_train, axis=3)\n",
        "\n",
        "        for iteration in range(iterations+1):\n",
        "            for _ in range(1): #train discriminator more times\n",
        "                discriminator_loss = self.train_discriminator(X_train, batch_size=batch_size)              \n",
        "            generator_loss = self.train_generator(batch_size)\n",
        "\n",
        "            if(iteration % self.graphInterval):\n",
        "                self.dloss.append(discriminator_loss[0])\n",
        "                self.gloss.append(generator_loss)\n",
        "                self.intervals.append(iteration)\n",
        "\n",
        "            if iteration % sample_interval == 0:\n",
        "                display.clear_output(wait=True)    \n",
        "                print(\"{} [D loss: {}, acc.: {:.2f}%] [G loss: {}]\".format(\n",
        "                    iteration,\n",
        "                    discriminator_loss[0],\n",
        "                    100 * discriminator_loss[1],\n",
        "                    generator_loss))\n",
        "                print(X_train[0][0][0:7] * 0.5 + 0.5)\n",
        "                self.sample_images()\n",
        "\n",
        "        #self.plotLossHistory()\n",
        "\n",
        "    def train_discriminator(self, X_real, batch_size):\n",
        "        half_batch = batch_size // 2\n",
        "\n",
        "        discriminator_indices = np.random.randint(0, X_real.shape[0], half_batch)\n",
        "        discriminator_train_imgs = X_real[discriminator_indices]\n",
        "\n",
        "        noise = np.random.normal(0, 1, [half_batch, 100])\n",
        "        generated_imgs = self.generator.predict(noise)\n",
        "\n",
        "        discriminator_loss_real = self.discriminator.train_on_batch(discriminator_train_imgs, np.ones([half_batch, 1]))\n",
        "        discriminator_loss_gen = self.discriminator.train_on_batch(generated_imgs, np.zeros([half_batch, 1]))\n",
        "        # average the two losses\n",
        "        discriminator_loss = np.add(discriminator_loss_real, discriminator_loss_gen) / 2\n",
        "\n",
        "        return discriminator_loss\n",
        "\n",
        "    def train_generator(self, batch_size):\n",
        "        noise = np.random.normal(0, 1, [batch_size, 100])\n",
        "        valid_y = np.array([1] * batch_size)  # move generator towards desired validity\n",
        "\n",
        "        generator_loss = self.combined.train_on_batch(noise, valid_y)\n",
        "        return generator_loss\n",
        "      \n",
        "    def plotLossHistory(self):\n",
        "        plt.figure(figsize=[10,10])\n",
        "        plt.plot(self.intervals, self.dloss)\n",
        "        plt.plot(self.intervals, self.gloss)\n",
        "        plt.legend([\"Discriminator Loss\", \"Generator Loss\"])\n",
        "        plt.xlabel(\"Iteration\")\n",
        "        plt.ylabel(\"Loss\")\n",
        "        plt.ylim(ymin=0, ymax=15)\n",
        "        plt.show()\n",
        "\n",
        "    def sample_images(self):\n",
        "        rows, columns = 4, 4\n",
        "        noise = np.random.normal(0, 1, [rows * columns, 100])\n",
        "        \n",
        "        generated_imgs = self.generator.predict(noise)\n",
        "        generated_imgs = np.squeeze(generated_imgs, axis=3)\n",
        "        generated_imgs = 0.5 * generated_imgs + 0.5\n",
        "        \n",
        "        print(generated_imgs[0][0][0:7])\n",
        "        \n",
        "        random_real_indices = np.random.randint(0, data.shape[0], rows*columns)\n",
        "        real_imgs = data[random_real_indices]\n",
        "                                        \n",
        "        print(\"Real\")\n",
        "        fig, axs = plt.subplots(rows, columns, figsize=[10,10])\n",
        "        for row in range(rows):\n",
        "            for column in range(columns):\n",
        "                count = row * columns + column\n",
        "                axs[row, column].imshow(real_imgs[count, :, :], cmap='gray', aspect='auto')\n",
        "                axs[row, column].axis('off')\n",
        "\n",
        "        plt.show()\n",
        "                                        \n",
        "        print(\"Generated\")\n",
        "        fig, axs = plt.subplots(rows, columns, figsize=[10, 10])\n",
        "        for row in range(rows):\n",
        "            for column in range(columns):\n",
        "                count = row * columns + column\n",
        "                axs[row, column].imshow(generated_imgs[count, :, :], cmap='gray', aspect='auto')\n",
        "                axs[row, column].axis('off')\n",
        "\n",
        "        plt.show()\n",
        "        self.plotLossHistory()\n",
        "\n",
        "\n",
        "gan = GAN()"
      ],
      "execution_count": 0,
      "outputs": [
        {
          "output_type": "stream",
          "text": [
            "WARNING:tensorflow:From /usr/local/lib/python3.6/dist-packages/tensorflow/python/ops/init_ops.py:1251: calling VarianceScaling.__init__ (from tensorflow.python.ops.init_ops) with dtype is deprecated and will be removed in a future version.\n",
            "Instructions for updating:\n",
            "Call initializer instance with the dtype argument instead of passing it to the constructor\n",
            "Model: \"model\"\n",
            "__________________________________________________________________________________________________\n",
            "Layer (type)                    Output Shape         Param #     Connected to                     \n",
            "==================================================================================================\n",
            "input_1 (InputLayer)            [(None, 4, 64, 1)]   0                                            \n",
            "__________________________________________________________________________________________________\n",
            "conv2d (Conv2D)                 (None, 4, 64, 32)    544         input_1[0][0]                    \n",
            "__________________________________________________________________________________________________\n",
            "conv2d_1 (Conv2D)               (None, 4, 64, 32)    544         input_1[0][0]                    \n",
            "__________________________________________________________________________________________________\n",
            "conv2d_2 (Conv2D)               (None, 4, 64, 32)    544         input_1[0][0]                    \n",
            "__________________________________________________________________________________________________\n",
            "conv2d_3 (Conv2D)               (None, 4, 64, 32)    288         input_1[0][0]                    \n",
            "__________________________________________________________________________________________________\n",
            "conv2d_4 (Conv2D)               (None, 4, 64, 32)    288         input_1[0][0]                    \n",
            "__________________________________________________________________________________________________\n",
            "conv2d_5 (Conv2D)               (None, 4, 64, 32)    608         input_1[0][0]                    \n",
            "__________________________________________________________________________________________________\n",
            "leaky_re_lu (LeakyReLU)         (None, 4, 64, 32)    0           conv2d[0][0]                     \n",
            "__________________________________________________________________________________________________\n",
            "leaky_re_lu_1 (LeakyReLU)       (None, 4, 64, 32)    0           conv2d_1[0][0]                   \n",
            "__________________________________________________________________________________________________\n",
            "leaky_re_lu_2 (LeakyReLU)       (None, 4, 64, 32)    0           conv2d_2[0][0]                   \n",
            "__________________________________________________________________________________________________\n",
            "leaky_re_lu_3 (LeakyReLU)       (None, 4, 64, 32)    0           conv2d_3[0][0]                   \n",
            "__________________________________________________________________________________________________\n",
            "leaky_re_lu_4 (LeakyReLU)       (None, 4, 64, 32)    0           conv2d_4[0][0]                   \n",
            "__________________________________________________________________________________________________\n",
            "leaky_re_lu_5 (LeakyReLU)       (None, 4, 64, 32)    0           conv2d_5[0][0]                   \n",
            "__________________________________________________________________________________________________\n",
            "concatenate (Concatenate)       (None, 4, 64, 192)   0           leaky_re_lu[0][0]                \n",
            "                                                                 leaky_re_lu_1[0][0]              \n",
            "                                                                 leaky_re_lu_2[0][0]              \n",
            "                                                                 leaky_re_lu_3[0][0]              \n",
            "                                                                 leaky_re_lu_4[0][0]              \n",
            "                                                                 leaky_re_lu_5[0][0]              \n",
            "__________________________________________________________________________________________________\n",
            "conv2d_6 (Conv2D)               (None, 1, 31, 64)    110656      concatenate[0][0]                \n",
            "__________________________________________________________________________________________________\n",
            "leaky_re_lu_6 (LeakyReLU)       (None, 1, 31, 64)    0           conv2d_6[0][0]                   \n",
            "__________________________________________________________________________________________________\n",
            "flatten (Flatten)               (None, 1984)         0           leaky_re_lu_6[0][0]              \n",
            "__________________________________________________________________________________________________\n",
            "dense (Dense)                   (None, 1024)         2032640     flatten[0][0]                    \n",
            "__________________________________________________________________________________________________\n",
            "leaky_re_lu_7 (LeakyReLU)       (None, 1024)         0           dense[0][0]                      \n",
            "__________________________________________________________________________________________________\n",
            "dense_1 (Dense)                 (None, 1)            1025        leaky_re_lu_7[0][0]              \n",
            "==================================================================================================\n",
            "Total params: 2,147,137\n",
            "Trainable params: 2,147,137\n",
            "Non-trainable params: 0\n",
            "__________________________________________________________________________________________________\n",
            "WARNING:tensorflow:From /usr/local/lib/python3.6/dist-packages/tensorflow/python/ops/nn_impl.py:180: add_dispatch_support.<locals>.wrapper (from tensorflow.python.ops.array_ops) is deprecated and will be removed in a future version.\n",
            "Instructions for updating:\n",
            "Use tf.where in 2.0, which has the same broadcast rule as np.where\n",
            "Model: \"sequential\"\n",
            "_________________________________________________________________\n",
            "Layer (type)                 Output Shape              Param #   \n",
            "=================================================================\n",
            "dense_2 (Dense)              (None, 16384)             1654784   \n",
            "_________________________________________________________________\n",
            "reshape (Reshape)            (None, 2, 32, 256)        0         \n",
            "_________________________________________________________________\n",
            "batch_normalization (BatchNo (None, 2, 32, 256)        1024      \n",
            "_________________________________________________________________\n",
            "conv2d_transpose (Conv2DTran (None, 2, 32, 128)        327808    \n",
            "_________________________________________________________________\n",
            "batch_normalization_1 (Batch (None, 2, 32, 128)        512       \n",
            "_________________________________________________________________\n",
            "conv2d_transpose_1 (Conv2DTr (None, 2, 32, 64)         81984     \n",
            "_________________________________________________________________\n",
            "batch_normalization_2 (Batch (None, 2, 32, 64)         256       \n",
            "_________________________________________________________________\n",
            "conv2d_transpose_2 (Conv2DTr (None, 4, 64, 1)          641       \n",
            "=================================================================\n",
            "Total params: 2,067,009\n",
            "Trainable params: 2,066,113\n",
            "Non-trainable params: 896\n",
            "_________________________________________________________________\n"
          ],
          "name": "stdout"
        }
      ]
    },
    {
      "cell_type": "markdown",
      "metadata": {
        "id": "hhPxxFEMca1X",
        "colab_type": "text"
      },
      "source": [
        "## Plot discriminator\n",
        "I didn't know keras could do this until recently. Isn't it pretty?"
      ]
    },
    {
      "cell_type": "code",
      "metadata": {
        "id": "0BsMCEXY4_zf",
        "colab_type": "code",
        "colab": {}
      },
      "source": [
        "#keras.utils.plot_model(gan.discriminator, show_shapes=True)"
      ],
      "execution_count": 0,
      "outputs": []
    },
    {
      "cell_type": "code",
      "metadata": {
        "scrolled": true,
        "id": "iukWNsSSLReZ",
        "colab_type": "code",
        "outputId": "bf7cb378-d94f-4df4-b22e-164fe4fa3998",
        "colab": {
          "base_uri": "https://localhost:8080/",
          "height": 1000
        }
      },
      "source": [
        "# with current settings it takes about ~5k iterations to get something decent\n",
        "# It becomes prone to collapse fairly quickly after it produces decent results\n",
        "iters = 4000\n",
        "gan.train(iterations=iters, sample_interval=500, batch_size=64)"
      ],
      "execution_count": 0,
      "outputs": [
        {
          "output_type": "stream",
          "text": [
            "4000 [D loss: 0.06316041946411133, acc.: 98.44%] [G loss: 7.033755779266357]\n",
            "[[0.525]\n",
            " [0.525]\n",
            " [0.525]\n",
            " [0.525]\n",
            " [0.525]\n",
            " [0.525]\n",
            " [0.475]]\n",
            "[0.63196737 0.6330832  0.62906516 0.62873346 0.59902984 0.60463536\n",
            " 0.52220553]\n",
            "Real\n"
          ],
          "name": "stdout"
        },
        {
          "output_type": "display_data",
          "data": {
            "image/png": "[encoded data removed]",
            "text/plain": [
              "<Figure size 720x720 with 16 Axes>"
            ]
          },
          "metadata": {
            "tags": []
          }
        },
        {
          "output_type": "stream",
          "text": [
            "Generated\n"
          ],
          "name": "stdout"
        },
        {
          "output_type": "display_data",
          "data": {
            "image/png": "[encoded data removed]",
            "text/plain": [
              "<Figure size 432x288 with 16 Axes>"
            ]
          },
          "metadata": {
            "tags": []
          }
        },
        {
          "output_type": "display_data",
          "data": {
            "image/png": "[encoded data removed]",
            "text/plain": [
              "<Figure size 720x720 with 1 Axes>"
            ]
          },
          "metadata": {
            "tags": []
          }
        }
      ]
    },
    {
      "cell_type": "markdown",
      "metadata": {
        "colab_type": "text",
        "id": "V3EWrVMT_qoZ"
      },
      "source": [
        "## Save model"
      ]
    },
    {
      "cell_type": "code",
      "metadata": {
        "colab_type": "code",
        "id": "HpdWaGAo_wXN",
        "colab": {}
      },
      "source": [
        "gan.combined.save('combined.h5')\n",
        "gan.generator.save('generator.h5')\n",
        "gan.discriminator.save('discriminator.h5')"
      ],
      "execution_count": 0,
      "outputs": []
    },
    {
      "cell_type": "code",
      "metadata": {
        "id": "uIpEMF-AXs0Q",
        "colab_type": "code",
        "colab": {}
      },
      "source": [
        "#Round output values to available values in D major\n",
        "def samples_to_d_major(samples):\n",
        "  \n",
        "  def note_to_d_major(note):\n",
        "    d_maj_values = np.array([62, 64, 66, 67, 69, 71, 73]) - 60 #C is now at 0\n",
        "                            # D   E   F   G   A   B   C\n",
        "    octave = note // 12\n",
        "    noteInScale = note % 12\n",
        "\n",
        "    noteDistances = np.abs(d_maj_values - noteInScale)\n",
        "    roundedNote = d_maj_values[noteDistances.argmin()]\n",
        "    return roundedNote + 12*octave\n",
        "    \n",
        "  note_to_d_major = np.vectorize(note_to_d_major)\n",
        "  return note_to_d_major(samples).astype(np.int32)"
      ],
      "execution_count": 0,
      "outputs": []
    },
    {
      "cell_type": "code",
      "metadata": {
        "id": "1a9ulFqoMf9j",
        "colab_type": "code",
        "colab": {}
      },
      "source": [
        "chars_as_num = {\n",
        "    'F,': 54,\n",
        "    'G,': 55,\n",
        "    'A,': 57,\n",
        "    'B,': 59,\n",
        "    'C,': 61,\n",
        "    'D': 62,\n",
        "    'E': 64,\n",
        "    'F': 66,\n",
        "    'G': 67,\n",
        "    'A': 69,\n",
        "    'B': 71,\n",
        "    'C': 73,\n",
        "    'd': 74,\n",
        "    'e': 76,\n",
        "    'f': 78,\n",
        "    'g': 79,\n",
        "    'a': 81,\n",
        "    'b': 83,\n",
        "    'c': 85,\n",
        "    'd\\'': 86,\n",
        "    'e\\'': 88,\n",
        "    'f\\'': 90\n",
        "}\n",
        "\n",
        "notes = {v:k for (k,v) in chars_as_num.items()}"
      ],
      "execution_count": 0,
      "outputs": []
    },
    {
      "cell_type": "code",
      "metadata": {
        "id": "VvVszEIaSQGv",
        "colab_type": "code",
        "colab": {}
      },
      "source": [
        "gen = gan.generator\n",
        "noise = np.random.normal(0, 1, [1000, 100])\n",
        "samples = gen.predict(noise)\n",
        "samples = np.squeeze(samples,-1)\n",
        "halfMaxPitch = (NOTE_MAX+NOTE_MIN)//2\n",
        "pitchRange = NOTE_MAX - halfMaxPitch\n",
        "# print(samples[0][0])\n",
        "samples = (samples * pitchRange) + halfMaxPitch\n",
        "tunes_generated = np.rint(samples).astype(np.int)\n",
        "# print(samples[0][0])\n",
        "# print(halfMaxPitch,pitchRange,NOTE_MAX,NOTE_MIN)\n",
        "\n",
        "tunes_generated = samples_to_d_major(tunes_generated)"
      ],
      "execution_count": 0,
      "outputs": []
    },
    {
      "cell_type": "code",
      "metadata": {
        "id": "eiL5Sq2p3JFS",
        "colab_type": "code",
        "outputId": "9b52bfab-6f95-428a-a31b-56e388962a60",
        "colab": {
          "base_uri": "https://localhost:8080/",
          "height": 731
        }
      },
      "source": [
        "calculateVariation(tunes_generated)\n",
        "print(\"Training dataset\")\n",
        "calculateVariation(data, plotMin=3.8, plotMax=6)\n",
        "print(\"Generated dataset\")\n",
        "calculateVariation(tunes_generated, plotMin=3.8, plotMax=6)\n",
        "print(\"Graphs are normed to a min value of 3.8 and a max value of 6\")"
      ],
      "execution_count": 0,
      "outputs": [
        {
          "output_type": "stream",
          "text": [
            "Mean Absolute Deviation:\n",
            "Max: 5.22\n",
            "Min: 3.12\n"
          ],
          "name": "stdout"
        },
        {
          "output_type": "display_data",
          "data": {
            "image/png": "[encoded data removed]",
            "text/plain": [
              "<Figure size 360x180 with 1 Axes>"
            ]
          },
          "metadata": {
            "tags": []
          }
        },
        {
          "output_type": "stream",
          "text": [
            "Training dataset\n",
            "Mean Absolute Deviation:\n",
            "Max: 5.61\n",
            "Min: 4.32\n"
          ],
          "name": "stdout"
        },
        {
          "output_type": "display_data",
          "data": {
            "image/png": "[encoded data removed]",
            "text/plain": [
              "<Figure size 360x180 with 1 Axes>"
            ]
          },
          "metadata": {
            "tags": []
          }
        },
        {
          "output_type": "stream",
          "text": [
            "Generated dataset\n",
            "Mean Absolute Deviation:\n",
            "Max: 5.22\n",
            "Min: 3.12\n"
          ],
          "name": "stdout"
        },
        {
          "output_type": "display_data",
          "data": {
            "image/png": "[encoded data removed]",
            "text/plain": [
              "<Figure size 360x180 with 1 Axes>"
            ]
          },
          "metadata": {
            "tags": []
          }
        },
        {
          "output_type": "stream",
          "text": [
            "Graphs are normed to a min value of 3.8 and a max value of 6\n"
          ],
          "name": "stdout"
        }
      ]
    },
    {
      "cell_type": "code",
      "metadata": {
        "id": "-xQf5xeDHb_e",
        "colab_type": "code",
        "colab": {}
      },
      "source": [
        "notefreq = {}\n",
        "gennotefreq = {}\n",
        "\n",
        "for dat in tunes_generated:\n",
        "  \n",
        "  if dat[-1][-2] in gennotefreq:\n",
        "    gennotefreq[dat[-1][-2]] += 1\n",
        "  else:\n",
        "    gennotefreq[dat[-1][-2]] = 1\n",
        "    \n",
        "  if dat[-1][-4] in gennotefreq:\n",
        "    gennotefreq[dat[-1][-4]] += 1\n",
        "  else:\n",
        "    gennotefreq[dat[-1][-4]] = 1\n",
        "  \n",
        "for dat in data:  \n",
        "  \n",
        "  if dat[-1][-2] in notefreq:\n",
        "    notefreq[dat[-1][-2]] += 1\n",
        "  else:\n",
        "    notefreq[dat[-1][-2]] = 1\n",
        "    \n",
        "  if dat[-1][-4] in notefreq:\n",
        "    notefreq[dat[-1][-4]] += 1\n",
        "  else:\n",
        "    notefreq[dat[-1][-4]] = 1\n"
      ],
      "execution_count": 0,
      "outputs": []
    },
    {
      "cell_type": "code",
      "metadata": {
        "id": "hHXiV8IfCbOJ",
        "colab_type": "code",
        "outputId": "a19063c3-98ef-4add-93c9-ff9e68644f71",
        "colab": {
          "base_uri": "https://localhost:8080/",
          "height": 1000
        }
      },
      "source": [
        "\n",
        "n = 0\n",
        "o = 0\n",
        "gn = 0\n",
        "go = 0\n",
        "    \n",
        "print(\"In key:\")\n",
        "for k in range(tunes_generated.min(), tunes_generated.max()):\n",
        "  if k in notes:\n",
        "    if k in gennotefreq:\n",
        "      print(\"\\tGenerated: {}: {:.2f}%\".format(notes[k], 50*gennotefreq[k]/tunes_generated.shape[0]))\n",
        "      gn += 50*gennotefreq[k]/tunes_generated.shape[0]\n",
        "    else:\n",
        "      print(\"\\tGenerated: {}: {:.2f}%\".format(notes[k], 0))\n",
        "    if k in notefreq:\n",
        "      print(\"\\tTraining:  {}: {:.2f}%\".format(notes[k], 50*notefreq[k]/data.shape[0]))\n",
        "      n += 50*notefreq[k]/data.shape[0]\n",
        "    else:\n",
        "      print(\"\\tTraining:  {}: {:.2f}%\".format(notes[k], 0))\n",
        "    print(\"\\n\")\n",
        "\n",
        "# print(gn,n)    \n",
        "    \n",
        "print(\"Not in key:\")\n",
        "\n",
        "\n",
        "for k in range(data.min(), data.max()):\n",
        "  if k not in notes and (k in gennotefreq or k in notefreq):\n",
        "    if k in gennotefreq:\n",
        "      print(\"\\tGenerated: {}: {:.2f}%\".format(k, 50*gennotefreq[k]/tunes_generated.shape[0]))\n",
        "      go += 50*gennotefreq[k]\n",
        "    if k in notefreq:\n",
        "      print(\"\\tTraining:  {}: {:.2f}%\".format(k, 50*notefreq[k]/data.shape[0]))\n",
        "      o += 50*notefreq[k]\n",
        "      \n",
        "# print(go/tunes_generated.shape[0], o/data.shape[0])"
      ],
      "execution_count": 0,
      "outputs": [
        {
          "output_type": "stream",
          "text": [
            "In key:\n",
            "\tGenerated: G,: 0.00%\n",
            "\tTraining:  G,: 0.00%\n",
            "\n",
            "\n",
            "\tGenerated: A,: 0.00%\n",
            "\tTraining:  A,: 0.24%\n",
            "\n",
            "\n",
            "\tGenerated: B,: 0.10%\n",
            "\tTraining:  B,: 0.30%\n",
            "\n",
            "\n",
            "\tGenerated: C,: 0.00%\n",
            "\tTraining:  C,: 0.00%\n",
            "\n",
            "\n",
            "\tGenerated: D: 3.35%\n",
            "\tTraining:  D: 10.24%\n",
            "\n",
            "\n",
            "\tGenerated: E: 4.30%\n",
            "\tTraining:  E: 2.87%\n",
            "\n",
            "\n",
            "\tGenerated: F: 3.10%\n",
            "\tTraining:  F: 2.01%\n",
            "\n",
            "\n",
            "\tGenerated: G: 6.15%\n",
            "\tTraining:  G: 1.89%\n",
            "\n",
            "\n",
            "\tGenerated: A: 11.20%\n",
            "\tTraining:  A: 8.54%\n",
            "\n",
            "\n",
            "\tGenerated: B: 7.75%\n",
            "\tTraining:  B: 7.50%\n",
            "\n",
            "\n",
            "\tGenerated: C: 0.00%\n",
            "\tTraining:  C: 0.37%\n",
            "\n",
            "\n",
            "\tGenerated: d: 39.60%\n",
            "\tTraining:  d: 31.28%\n",
            "\n",
            "\n",
            "\tGenerated: e: 13.15%\n",
            "\tTraining:  e: 8.05%\n",
            "\n",
            "\n",
            "\tGenerated: f: 4.25%\n",
            "\tTraining:  f: 7.13%\n",
            "\n",
            "\n",
            "\tGenerated: g: 4.45%\n",
            "\tTraining:  g: 4.27%\n",
            "\n",
            "\n",
            "\tGenerated: a: 1.95%\n",
            "\tTraining:  a: 5.12%\n",
            "\n",
            "\n",
            "\tGenerated: b: 0.30%\n",
            "\tTraining:  b: 1.34%\n",
            "\n",
            "\n",
            "\tGenerated: c: 0.00%\n",
            "\tTraining:  c: 0.00%\n",
            "\n",
            "\n",
            "\tGenerated: d': 0.35%\n",
            "\tTraining:  d': 2.56%\n",
            "\n",
            "\n",
            "\tGenerated: e': 0.00%\n",
            "\tTraining:  e': 0.18%\n",
            "\n",
            "\n",
            "\tGenerated: f': 0.00%\n",
            "\tTraining:  f': 0.18%\n",
            "\n",
            "\n",
            "Not in key:\n",
            "\tTraining:  58: 0.18%\n",
            "\tTraining:  60: 0.12%\n",
            "\tTraining:  63: 0.43%\n",
            "\tTraining:  65: 0.24%\n",
            "\tTraining:  70: 0.18%\n",
            "\tTraining:  72: 3.84%\n",
            "\tTraining:  75: 0.18%\n",
            "\tTraining:  84: 0.73%\n"
          ],
          "name": "stdout"
        }
      ]
    },
    {
      "cell_type": "code",
      "metadata": {
        "id": "UXuR0HFIDdM9",
        "colab_type": "code",
        "outputId": "5adba36b-6075-47e4-eeee-300f070f46a7",
        "colab": {
          "base_uri": "https://localhost:8080/",
          "height": 71
        }
      },
      "source": [
        "\n",
        "\n",
        "def nums_to_abc(nums):\n",
        "    chars = []\n",
        "#     print(nums)\n",
        "    for num in nums:\n",
        "        if num in notes:\n",
        "            chars.append(notes[num])\n",
        "        elif num > 83:\n",
        "            apostrophe_count = np.ceil((num - 83) / 12).astype(np.int32)\n",
        "            apostrophe_count = np.asscalar(apostrophe_count)\n",
        "            note = notes[num - 12*apostrophe_count]\n",
        "            apostrophes = \"\".join([\"'\"] * apostrophe_count)\n",
        "            chars.append(note + apostrophes)\n",
        "        elif num < 60:\n",
        "            comma_count = np.ceil((60 - num) / 12).astype(np.int32)\n",
        "            comma_count = np.asscalar(comma_count)\n",
        "            note = notes[num + 12*comma_count]\n",
        "            commas = \"\".join([\",\"] * comma_count)\n",
        "            chars.append(note + commas)\n",
        "        else:\n",
        "            print(\"ya fucked up: {} not in notes\".format(num))\n",
        "            \n",
        "    return chars\n",
        "  \n",
        "def tune_to_abc(tune):\n",
        "  bars = [nums_to_abc(bar) for bar in tune]\n",
        "  return bars\n",
        "\n",
        "tunes = [tune_to_abc(tune) for tune in tunes_generated]\n",
        "\n",
        "print(\"First 3 tunes\")\n",
        "print(tunes[:3])\n",
        "# print(tunes[10])"
      ],
      "execution_count": 0,
      "outputs": [
        {
          "output_type": "stream",
          "text": [
            "First 3 tunes\n",
            "[[['B', 'B', 'd', 'd', 'd', 'd', 'd', 'B', 'B', 'B', 'd', 'd', 'g', 'g', 'd', 'd', 'A', 'A', 'B', 'B', 'd', 'd', 'A', 'A', 'd', 'd', 'B', 'B', 'd', 'd', 'd', 'd', 'G', 'G', 'd', 'd', 'd', 'd', 'A', 'A', 'd', 'd', 'd', 'd', \"d'\", \"d'\", 'a', 'a', 'e', 'e', 'd', 'd', 'd', 'd', 'e', 'e', 'd', 'd', 'd', 'd', 'd', 'd', 'd', 'd'], ['B', 'B', 'd', 'd', 'd', 'd', 'd', 'B', 'B', 'B', 'd', 'd', 'g', 'g', 'd', 'd', 'A', 'A', 'A', 'A', 'd', 'd', 'A', 'A', 'd', 'd', 'B', 'B', 'd', 'd', 'd', 'd', 'G', 'G', 'd', 'd', 'd', 'd', 'A', 'A', 'd', 'd', 'd', 'd', \"d'\", \"d'\", 'g', 'a', 'e', 'e', 'd', 'd', 'd', 'd', 'e', 'e', 'd', 'd', 'd', 'd', 'd', 'd', 'd', 'd'], ['a', 'a', 'a', 'a', 'a', 'a', 'a', 'a', 'g', 'g', 'g', 'a', 'a', 'a', 'a', 'a', \"d'\", \"d'\", 'a', 'a', \"d'\", \"d'\", \"d'\", \"d'\", 'a', 'a', 'g', 'g', 'f', 'f', 'e', 'e', 'g', 'g', 'g', 'g', \"d'\", \"d'\", 'a', 'a', 'g', 'g', 'a', 'a', 'g', 'g', 'g', 'g', 'f', 'f', 'd', 'd', 'd', 'd', 'f', 'f', 'd', 'd', 'd', 'd', 'd', 'd', 'd', 'd'], ['a', 'a', 'a', 'a', 'a', 'a', 'a', 'a', 'g', 'g', 'f', 'f', 'g', 'g', 'f', 'f', 'b', 'b', 'a', 'a', \"d'\", \"d'\", \"d'\", \"d'\", 'a', 'a', 'g', 'g', 'f', 'f', 'e', 'e', 'g', 'g', 'a', 'a', \"d'\", \"d'\", 'a', 'a', 'g', 'g', \"d'\", \"d'\", 'a', 'a', 'g', 'g', 'e', 'e', 'd', 'd', 'd', 'd', 'f', 'f', 'd', 'd', 'd', 'd', 'd', 'd', 'd', 'd']], [['d', 'd', 'd', 'd', 'd', 'd', 'e', 'e', 'e', 'e', 'e', 'e', 'e', 'e', 'e', 'e', 'f', 'f', 'g', 'f', 'd', 'd', 'g', 'g', 'e', 'e', 'f', 'f', 'f', 'e', 'd', 'd', 'd', 'd', 'd', 'd', 'd', 'd', 'e', 'e', 'e', 'e', 'e', 'e', 'e', 'e', 'd', 'd', 'f', 'f', 'g', 'g', 'e', 'e', 'd', 'd', 'd', 'd', 'd', 'd', 'd', 'd', 'd', 'd'], ['d', 'd', 'd', 'd', 'd', 'd', 'e', 'e', 'e', 'e', 'e', 'e', 'e', 'e', 'e', 'e', 'f', 'f', 'f', 'g', 'd', 'd', 'g', 'g', 'e', 'e', 'f', 'f', 'e', 'e', 'd', 'd', 'd', 'd', 'd', 'd', 'd', 'd', 'e', 'e', 'e', 'e', 'e', 'e', 'e', 'e', 'd', 'd', 'f', 'g', 'g', 'g', 'e', 'e', 'd', 'd', 'd', 'e', 'f', 'f', 'g', 'g', 'g', 'g'], ['a', 'a', 'a', 'a', 'b', 'b', 'g', 'g', 'a', 'a', \"d'\", \"d'\", \"d'\", \"d'\", 'a', 'a', 'g', 'g', 'g', 'g', 'e', 'e', 'd', 'd', 'd', 'd', 'e', 'e', 'a', 'a', 'f', 'e', 'e', 'e', 'e', 'e', 'e', 'e', 'f', 'f', 'a', 'a', 'g', 'g', 'g', 'g', 'e', 'e', 'g', 'g', 'g', 'g', 'f', 'f', 'e', 'e', 'e', 'e', 'f', 'f', 'g', 'g', 'g', 'g'], ['a', 'a', 'a', 'a', 'b', 'b', 'g', 'g', 'a', 'b', \"d'\", \"d'\", \"d'\", \"d'\", 'a', 'a', 'g', 'g', 'g', 'g', 'e', 'e', 'd', 'd', 'd', 'd', 'e', 'e', 'a', 'a', 'b', 'b', 'a', 'b', 'a', 'a', 'g', 'g', 'g', 'g', 'g', 'a', 'g', 'g', 'g', 'g', 'f', 'f', 'g', 'g', 'g', 'g', 'e', 'e', 'd', 'd', 'd', 'd', 'd', 'd', 'd', 'd', 'd', 'd']], [['e', 'e', 'e', 'e', 'd', 'd', 'd', 'e', 'd', 'd', 'd', 'd', 'd', 'd', 'a', 'a', 'g', 'g', \"d'\", \"d'\", 'g', 'g', 'g', 'g', 'e', 'e', 'g', 'g', 'd', 'd', 'd', 'd', 'd', 'd', 'f', 'f', 'g', 'g', 'e', 'e', 'e', 'e', 'd', 'd', 'g', 'f', 'a', 'a', \"d'\", \"d'\", \"d'\", \"d'\", \"d'\", \"d'\", \"d'\", \"d'\", 'a', 'a', 'g', 'f', 'e', 'e', 'd', 'd'], ['e', 'e', 'd', 'd', 'e', 'e', 'd', 'd', 'e', 'e', 'g', 'f', 'd', 'e', 'e', 'f', 'e', 'e', \"d'\", \"d'\", 'g', 'g', 'g', 'g', 'e', 'e', 'g', 'g', 'd', 'd', 'd', 'd', 'd', 'e', 'e', 'e', 'g', 'g', 'e', 'e', 'e', 'e', 'd', 'd', 'f', 'f', 'a', 'a', \"d'\", \"d'\", \"d'\", \"d'\", \"d'\", \"d'\", \"d'\", \"d'\", 'b', 'b', 'a', 'a', 'b', 'b', 'g', 'g'], [\"f'\", \"g'\", \"d'\", 'g', \"e'\", \"e'\", \"d'\", \"d'\", \"d'\", \"d'\", \"d'\", \"d'\", \"d'\", \"d'\", \"f'\", \"e'\", \"e'\", \"e'\", \"e'\", \"e'\", \"e'\", \"d'\", \"e'\", 'b', \"f'\", \"f'\", \"d'\", 'b', \"d'\", \"d'\", \"d'\", \"d'\", \"d'\", \"d'\", \"d'\", \"d'\", \"d'\", \"d'\", \"d'\", 'b', \"d'\", \"d'\", \"d'\", \"d'\", \"d'\", \"d'\", \"d'\", \"d'\", \"d'\", \"d'\", \"d'\", \"d'\", \"d'\", \"d'\", \"d'\", \"d'\", 'b', 'b', \"d'\", \"d'\", \"d'\", \"d'\", \"d'\", \"d'\"], [\"e'\", \"f'\", 'g', 'g', 'b', 'b', 'e', 'f', \"g'\", \"g'\", \"e'\", \"e'\", \"d'\", \"d'\", \"d'\", \"d'\", \"d'\", \"d'\", \"e'\", \"d'\", 'a', \"d'\", 'd', \"e'\", \"g'\", \"f'\", \"d'\", 'a', 'e', 'd', 'a', 'g', \"g'\", \"g'\", \"e'\", \"e'\", \"e'\", \"d'\", 'b', \"d'\", \"d'\", \"d'\", 'a', 'a', \"d'\", \"d'\", 'b', \"d'\", \"d'\", \"d'\", \"d'\", \"d'\", \"e'\", \"d'\", \"d'\", \"d'\", 'a', 'a', 'g', 'g', 'g', 'g', 'e', 'e']]]\n"
          ],
          "name": "stdout"
        }
      ]
    },
    {
      "cell_type": "code",
      "metadata": {
        "id": "THA1x3YPX5xt",
        "colab_type": "code",
        "outputId": "4b6b4f97-b902-4ee4-b54d-feacf8fe0371",
        "colab": {
          "base_uri": "https://localhost:8080/",
          "height": 54
        }
      },
      "source": [
        "cleantunes = []\n",
        "\n",
        "for num, tune in enumerate(tunes):\n",
        "  \n",
        "  newtune = []\n",
        "  \n",
        "  for bar in tune:\n",
        "    \n",
        "    newbars = []\n",
        "    \n",
        "    # split bar into fourths\n",
        "    \n",
        "    for i in range(0, 64, 4):\n",
        "      \n",
        "      newbar = bar[i:i+4]\n",
        "      compressed = []\n",
        "      \n",
        "      if i % 16 == 0 and i != 0:\n",
        "        compressed.append(\"|\")\n",
        "      \n",
        "      j = 0\n",
        "      count = 1\n",
        "      note = None\n",
        "      \n",
        "      while j < len(newbar):\n",
        "        \n",
        "        if note != newbar[j]:\n",
        "          if count > 1:\n",
        "            compressed.append(str(count))\n",
        "            count = 1\n",
        "          note = newbar[j]\n",
        "          compressed.append(newbar[j])\n",
        "        else:\n",
        "          count += 1\n",
        "        j += 1\n",
        "      if count > 1:\n",
        "        compressed.append(str(count))\n",
        "      \n",
        "      newbars.append(\"\".join(compressed))\n",
        "  \n",
        "    newtune.append(\"\".join(newbars))\n",
        "    \n",
        "  cleantunes.append(\"||\".join(newtune))\n",
        "  \n",
        "print(cleantunes[:2])"
      ],
      "execution_count": 0,
      "outputs": [
        {
          "output_type": "stream",
          "text": [
            "[\"B2d2d3BB2d2g2d2|A2B2d2A2d2B2d4|G2d2d2A2d4d'2a2|e2d2d2e2d4d4||B2d2d3BB2d2g2d2|A4d2A2d2B2d4|G2d2d2A2d4d'2ga|e2d2d2e2d4d4||a4a4g3aa4|d'2a2d'4a2g2f2e2|g4d'2a2g2a2g4|f2d2d2f2d4d4||a4a4g2f2g2f2|b2a2d'4a2g2f2e2|g2a2d'2a2g2d'2a2g2|e2d2d2f2d4d4\", \"d4d2e2e4e4|f2gfd2g2e2f2fed2|d4d2e2e4e2d2|f2g2e2d2d4d4||d4d2e2e4e4|f3gd2g2e2f2e2d2|d4d2e2e4e2d2|fg3e2d2def2g4||a4b2g2a2d'2d'2a2|g4e2d2d2e2a2fe|e4e2f2a2g2g2e2|g4f2e2e2f2g4||a4b2g2abd'2d'2a2|g4e2d2d2e2a2b2|aba2g4gag2g2f2|g4e2d2d4d4\"]\n"
          ],
          "name": "stdout"
        }
      ]
    },
    {
      "cell_type": "code",
      "metadata": {
        "id": "0LthD8Td33dR",
        "colab_type": "code",
        "colab": {}
      },
      "source": [
        "!pip install -U -q PyDrive\n",
        "from pydrive.auth import GoogleAuth\n",
        "from pydrive.drive import GoogleDrive\n",
        "from google.colab import auth\n",
        "from oauth2client.client import GoogleCredentials"
      ],
      "execution_count": 0,
      "outputs": []
    },
    {
      "cell_type": "code",
      "metadata": {
        "id": "D8zv8vQQxrLZ",
        "colab_type": "code",
        "outputId": "251cd7b4-5f83-4576-885e-153ebf1e65ea",
        "colab": {
          "base_uri": "https://localhost:8080/",
          "height": 85
        }
      },
      "source": [
        "import pandas as pd\n",
        "df = pd.DataFrame({'tunes': cleantunes})\n",
        "df.to_csv(\"clean_generated_tunes.csv\")\n",
        "\n",
        "# Authenticate and create the PyDrive client.\n",
        "# This only needs to be done once in a notebook.\n",
        "auth.authenticate_user()\n",
        "gauth = GoogleAuth()\n",
        "gauth.credentials = GoogleCredentials.get_application_default()\n",
        "drive = GoogleDrive(gauth)\n",
        "\n",
        "files = ['clean_generated_tunes.csv', 'generator.h5', 'discriminator.h5', 'combined.h5']\n",
        "\n",
        "for f in files:\n",
        "  uploaded = drive.CreateFile({'title': f})\n",
        "  uploaded.SetContentFile(f)\n",
        "  uploaded.Upload()\n",
        "  print('Uploaded file `{}` with ID {}'.format(f, uploaded.get('id')))"
      ],
      "execution_count": 0,
      "outputs": [
        {
          "output_type": "stream",
          "text": [
            "Uploaded file `clean_generated_tunes.csv` with ID 1T8O1SE6HjQFOckbrm3-V6-IWo2a5Vi_d\n",
            "Uploaded file `generator.h5` with ID 1wV8mHt_hktmg_9820KwRJUgKogYgDuvZ\n",
            "Uploaded file `discriminator.h5` with ID 1a9vmFOrqq6_MmqORbnCcs8IbEx3d3QZ9\n",
            "Uploaded file `combined.h5` with ID 1D8o1BjiYeAKdQhIdjvyOC_yxThmAIygA\n"
          ],
          "name": "stdout"
        }
      ]
    },
    {
      "cell_type": "code",
      "metadata": {
        "id": "-TWrf7p7sUId",
        "colab_type": "code",
        "outputId": "8fc4f81e-3cfe-49ab-ceac-0f21ff95bd95",
        "colab": {
          "base_uri": "https://localhost:8080/",
          "height": 324
        }
      },
      "source": [
        "plt.figure(figsize=[10, 5])\n",
        "plt.axis('off')\n",
        "plt.imshow(data[np.random.randint(0, data.shape[0])], cmap='gray', aspect='auto')\n",
        "plt.show()"
      ],
      "execution_count": 0,
      "outputs": [
        {
          "output_type": "display_data",
          "data": {
            "image/png": "[encoded data removed]",
            "text/plain": [
              "<Figure size 720x360 with 1 Axes>"
            ]
          },
          "metadata": {
            "tags": []
          }
        }
      ]
    },
    {
      "cell_type": "code",
      "metadata": {
        "id": "bFKTOK1uXIJk",
        "colab_type": "code",
        "colab": {}
      },
      "source": [
        ""
      ],
      "execution_count": 0,
      "outputs": []
    }
  ]
}