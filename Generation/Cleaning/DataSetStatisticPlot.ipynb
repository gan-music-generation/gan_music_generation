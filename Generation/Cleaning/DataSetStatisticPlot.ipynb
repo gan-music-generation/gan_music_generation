{
 "cells": [
  {
   "cell_type": "markdown",
   "metadata": {},
   "source": [
    "<h1>Analysis of the Tunes Dataset</h1>"
   ]
  },
  {
   "cell_type": "code",
   "execution_count": 1,
   "metadata": {
    "pycharm": {
     "is_executing": false
    }
   },
   "outputs": [
    {
     "traceback": [
      "\u001b[0;31m---------------------------------------------------------------------------\u001b[0m",
      "\u001b[0;31mModuleNotFoundError\u001b[0m                       Traceback (most recent call last)",
      "\u001b[0;32m<ipython-input-1-5f421538034b>\u001b[0m in \u001b[0;36m<module>\u001b[0;34m\u001b[0m\n\u001b[1;32m      1\u001b[0m \u001b[0;34m\u001b[0m\u001b[0m\n\u001b[1;32m      2\u001b[0m \u001b[0;31m# Imports\u001b[0m\u001b[0;34m\u001b[0m\u001b[0;34m\u001b[0m\u001b[0;34m\u001b[0m\u001b[0m\n\u001b[0;32m----> 3\u001b[0;31m \u001b[0;32mfrom\u001b[0m \u001b[0mTunes_cleaned\u001b[0m \u001b[0;32mimport\u001b[0m \u001b[0mtunes\u001b[0m \u001b[0;32mas\u001b[0m \u001b[0mraw_tunes\u001b[0m\u001b[0;34m\u001b[0m\u001b[0;34m\u001b[0m\u001b[0m\n\u001b[0m\u001b[1;32m      4\u001b[0m \u001b[0;32mimport\u001b[0m \u001b[0mnumpy\u001b[0m \u001b[0;32mas\u001b[0m \u001b[0mnp\u001b[0m\u001b[0;34m\u001b[0m\u001b[0;34m\u001b[0m\u001b[0m\n\u001b[1;32m      5\u001b[0m \u001b[0;32mimport\u001b[0m \u001b[0mpandas\u001b[0m \u001b[0;32mas\u001b[0m \u001b[0mpd\u001b[0m\u001b[0;34m\u001b[0m\u001b[0;34m\u001b[0m\u001b[0m\n",
      "\u001b[0;31mModuleNotFoundError\u001b[0m: No module named 'Tunes_cleaned'"
     ],
     "ename": "ModuleNotFoundError",
     "evalue": "No module named 'Tunes_cleaned'",
     "output_type": "error"
    }
   ],
   "source": [
    "# Imports\n",
    "from Tunes_cleaned import tunes as raw_tunes\n",
    "import numpy as np\n",
    "import pandas as pd\n",
    "import matplotlib.pyplot as plt\n",
    "%matplotlib inline\n",
    "plt.rc('xtick', labelsize=20) \n",
    "plt.rc('ytick', labelsize=10) "
   ]
  },
  {
   "cell_type": "code",
   "execution_count": null,
   "metadata": {
    "pycharm": {
     "is_executing": false
    }
   },
   "outputs": [],
   "source": [
    "tunes = pd.DataFrame.from_dict(raw_tunes, orient='index')"
   ]
  },
  {
   "cell_type": "code",
   "execution_count": null,
   "metadata": {
    "pycharm": {
     "is_executing": false
    }
   },
   "outputs": [],
   "source": [
    "tunes['type'].value_counts().plot(kind='bar', figsize=(20,10), rot=45)\n",
    "plt.title(\"Song Types\", fontsize=20)\n",
    "plt.show()"
   ]
  },
  {
   "cell_type": "code",
   "execution_count": null,
   "metadata": {
    "pycharm": {
     "is_executing": false
    }
   },
   "outputs": [],
   "source": [
    "tunes['meter'].value_counts().plot(kind='bar', figsize=(20,10), rot=45)\n",
    "plt.title(\"Meters\", fontsize=20)\n",
    "plt.show()"
   ]
  },
  {
   "cell_type": "markdown",
   "metadata": {},
   "source": [
    "<h1>Key Analysis</h1>\n",
    "Traditional music has a fairly limited span of keys, which is imposed by the nature of the instruments used. For example the Uilleann Pipes are confined to a single key (Typically D major)."
   ]
  },
  {
   "cell_type": "markdown",
   "metadata": {},
   "source": [
    "<h3>Number of modes</h3>"
   ]
  },
  {
   "cell_type": "code",
   "execution_count": null,
   "metadata": {
    "pycharm": {
     "is_executing": false
    }
   },
   "outputs": [],
   "source": [
    "tunes['tonic'] = tunes['mode'].str[0]\n",
    "tunes['mode'].value_counts().plot(kind='bar', figsize=(20,10), rot=75)\n",
    "plt.title(\"Mode Frequency\", fontsize=20)\n",
    "plt.show()"
   ]
  },
  {
   "cell_type": "markdown",
   "metadata": {},
   "source": [
    "<h3>Number of Tonic Keys</h3>"
   ]
  },
  {
   "cell_type": "code",
   "execution_count": null,
   "metadata": {
    "pycharm": {
     "is_executing": false
    }
   },
   "outputs": [],
   "source": [
    "tunes['tonic'].value_counts().plot(kind='bar', figsize=(20,10), rot=0)\n",
    "plt.title(\"Tonic Frequency\", fontsize=20)\n",
    "plt.show()"
   ]
  },
  {
   "cell_type": "markdown",
   "metadata": {},
   "source": [
    "<h2>Number of Notes</h2>\n",
    "Please note that as of the time of writing, this does not take repeat sections into account"
   ]
  },
  {
   "cell_type": "code",
   "execution_count": null,
   "metadata": {
    "pycharm": {
     "is_executing": false
    }
   },
   "outputs": [],
   "source": [
    "tunes['notes'] = tunes['abc'].str.replace('[^a-zA-Z\\',]+','')"
   ]
  },
  {
   "cell_type": "code",
   "execution_count": null,
   "metadata": {
    "pycharm": {
     "is_executing": false
    }
   },
   "outputs": [],
   "source": [
    "notes = {\n",
    "    'C' : 60,\n",
    "    'D' : 61,\n",
    "    'E' : 62,\n",
    "    'F' : 63,\n",
    "    'G' : 64,\n",
    "    'A' : 65,\n",
    "    'B' : 66,\n",
    "    'c' : 67,\n",
    "    'd' : 68,\n",
    "    'e' : 69,\n",
    "    'f' : 70,\n",
    "    'g' : 71,\n",
    "    'a' : 72,\n",
    "    'b' : 73\n",
    "}"
   ]
  },
  {
   "cell_type": "code",
   "execution_count": null,
   "metadata": {
    "pycharm": {
     "is_executing": false
    }
   },
   "outputs": [],
   "source": [
    "def abc_to_nums(abc):\n",
    "    nums = []\n",
    "    for letter in abc:\n",
    "        if letter in notes:\n",
    "            nums.append(notes[letter])\n",
    "        elif len(nums)==0:\n",
    "            continue\n",
    "        elif letter is \"'\":\n",
    "            nums[-1]+=7\n",
    "        elif letter is \",\":\n",
    "            nums[-1]-=7     \n",
    "    return nums"
   ]
  },
  {
   "cell_type": "code",
   "execution_count": null,
   "metadata": {
    "pycharm": {
     "is_executing": false
    }
   },
   "outputs": [],
   "source": [
    "tunes['note_nums'] = tunes['notes'].apply(abc_to_nums)\n",
    "tunes['num_notes'] = tunes['note_nums'].str.len()\n",
    "tunes['num_notes'].describe()"
   ]
  },
  {
   "cell_type": "code",
   "execution_count": null,
   "metadata": {
    "pycharm": {
     "is_executing": false
    }
   },
   "outputs": [],
   "source": [
    "fig = plt.figure(figsize = (20,10))\n",
    "tunes['num_notes'].hist(bins=range(0,250,1))\n",
    "plt.title(\"Number of Notes\", fontsize=20)\n",
    "plt.show()"
   ]
  },
  {
   "cell_type": "markdown",
   "metadata": {},
   "source": [
    "<h3>Melodic Range</h3>\n",
    "Melodic range is the intervalic distance between the highest and lowest notes in a melody. It is also called 'Tessitura'. A standard classical tessitura is about 2 octaves (16 notes), but this is for trained musicians. We can see that in traditional music, lower tessituras are more common."
   ]
  },
  {
   "cell_type": "code",
   "execution_count": null,
   "metadata": {
    "pycharm": {
     "is_executing": false
    }
   },
   "outputs": [],
   "source": [
    "def calc_range(arr):\n",
    "    if arr==[]:\n",
    "        return 0\n",
    "    return max(arr) - min(arr)"
   ]
  },
  {
   "cell_type": "code",
   "execution_count": null,
   "metadata": {
    "pycharm": {
     "is_executing": false
    }
   },
   "outputs": [],
   "source": [
    "tunes['range'] = tunes['note_nums'].apply(calc_range)\n",
    "fig = plt.figure(figsize = (20,10))\n",
    "tunes['range'].value_counts().sort_index().plot(kind='bar', figsize=(20,10), rot=0)\n",
    "plt.title(\"Melodic Range\", fontsize=20)\n",
    "plt.show()"
   ]
  },
  {
   "cell_type": "markdown",
   "metadata": {},
   "source": [
    "<h1>Pruning The Dataset</h1>\n",
    "<h3>Removing All Songs Below a Certain Length"
   ]
  },
  {
   "cell_type": "code",
   "execution_count": null,
   "metadata": {
    "pycharm": {
     "is_executing": false
    }
   },
   "outputs": [],
   "source": [
    "def remove_small_strings(frame, len):\n",
    "    result = frame.drop(frame[frame['num_notes']<len].index)\n",
    "    return result.drop(result[result.abc.str.len()<len].index)"
   ]
  },
  {
   "cell_type": "code",
   "execution_count": null,
   "metadata": {
    "pycharm": {
     "is_executing": false
    }
   },
   "outputs": [],
   "source": [
    "SHORTEST_STR = 32\n",
    "tunes_clean = remove_small_strings(tunes, SHORTEST_STR)\n",
    "print(\"{} entries removed\".format(tunes.shape[0]-tunes_clean.shape[0]))"
   ]
  },
  {
   "cell_type": "markdown",
   "metadata": {},
   "source": [
    "<h3>Removing all songs with non-diatonic notes</h3>"
   ]
  },
  {
   "cell_type": "code",
   "execution_count": null,
   "metadata": {
    "pycharm": {
     "is_executing": false
    }
   },
   "outputs": [],
   "source": [
    "def remove_non_diatonic(frame):\n",
    "    return frame.drop(frame[frame['abc'].str.count('\\^|_|=')>0].index)"
   ]
  },
  {
   "cell_type": "code",
   "execution_count": null,
   "metadata": {
    "pycharm": {
     "is_executing": false
    }
   },
   "outputs": [],
   "source": [
    "tunes_clean = remove_non_diatonic(tunes_clean)\n",
    "print(\"{} entries removed\".format(tunes.shape[0]-tunes_clean.shape[0]))"
   ]
  },
  {
   "cell_type": "markdown",
   "metadata": {},
   "source": [
    "<h3>Removing all songs with tuples</h3>"
   ]
  },
  {
   "cell_type": "code",
   "execution_count": null,
   "metadata": {
    "pycharm": {
     "is_executing": false
    }
   },
   "outputs": [],
   "source": [
    "def remove_tuples(frame):\n",
    "    return frame.drop(frame[frame['abc'].str.count('\\(\\d')>0].index)"
   ]
  },
  {
   "cell_type": "code",
   "execution_count": null,
   "metadata": {
    "pycharm": {
     "is_executing": false
    }
   },
   "outputs": [],
   "source": [
    "tunes_clean = remove_tuples(tunes_clean)\n",
    "print(\"{} entries removed\".format(tunes.shape[0]-tunes_clean.shape[0]))"
   ]
  },
  {
   "cell_type": "code",
   "execution_count": null,
   "metadata": {
    "pycharm": {
     "is_executing": false
    }
   },
   "outputs": [],
   "source": [
    "print(\"{} songs remain\".format(tunes_clean.shape[0]))"
   ]
  },
  {
   "cell_type": "markdown",
   "metadata": {},
   "source": [
    "<h1> To investigate:</h1>\n",
    "Pickups \n",
    "\n",
    "4/4 and filtering\n",
    "\n",
    "Reels and filtering\n",
    "\n",
    "Fits the ABA format explicitly\n",
    "\n",
    "check average note length\n",
    "\n",
    "check how often notes deviate in time"
   ]
  }
 ],
 "metadata": {
  "kernelspec": {
   "display_name": "Python 3",
   "language": "python",
   "name": "python3"
  },
  "language_info": {
   "codemirror_mode": {
    "name": "ipython",
    "version": 3
   },
   "file_extension": ".py",
   "mimetype": "text/x-python",
   "name": "python",
   "nbconvert_exporter": "python",
   "pygments_lexer": "ipython3",
   "version": "3.6.4"
  }
 },
 "nbformat": 4,
 "nbformat_minor": 2
}