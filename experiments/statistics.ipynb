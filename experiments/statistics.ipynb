{
 "cells": [
  {
   "cell_type": "markdown",
   "metadata": {
    "colab_type": "text",
    "id": "o7hyNcnQD0j6"
   },
   "source": [
    "# **Data Generation**"
   ]
  },
  {
   "cell_type": "code",
   "execution_count": null,
   "metadata": {
    "colab": {},
    "colab_type": "code",
    "id": "Za9PBJZPgtZF"
   },
   "outputs": [],
   "source": [
    "import tensorflow as tf\n",
    "from tensorflow import keras\n",
    "from tensorflow.keras import layers\n",
    "from tensorflow.keras import Input\n",
    "from tensorflow.keras import optimizers\n",
    "from tensorflow.keras import models, Model\n",
    "from tensorflow.keras.layers import LeakyReLU\n",
    "from tensorflow.keras.datasets import mnist\n",
    "import matplotlib.pyplot as plt\n",
    "import numpy as np\n",
    "from IPython import display\n",
    "tf.logging.set_verbosity(tf.logging.ERROR)\n",
    "from similaritymeasures import frechet_dist\n",
    "\n",
    "NOTE_MIN = 53\n",
    "NOTE_MAX = 93\n",
    "DOWNLOAD = True"
   ]
  },
  {
   "cell_type": "code",
   "execution_count": null,
   "metadata": {
    "colab": {
     "base_uri": "https://localhost:8080/",
     "height": 34
    },
    "colab_type": "code",
    "id": "2pMNaNQuhMAX",
    "outputId": "2c9da09d-c186-4ab3-d0e0-6ab5b278db92"
   },
   "outputs": [],
   "source": [
    "# Load Data\n",
    "data = np.load('./../data/raw/training_data.npy', allow_pickle=True)\n",
    "data = data.reshape(820,4,64)\n",
    "print('raw data shape', raw_data.shape)\n",
    "\n",
    "folkrnn = np.load('./../data/generated/folkRnn_data.npy', allow_pickle=True)\n",
    "folkrnn = folkrnn.reshape(811, 4, 64)\n",
    "print('folkRnn data shape', folkrnn.shape)\n",
    "\n",
    "tunes_generated = np.load('./../data/generated/generated_data.npy', allow_pickle=True)\n",
    "tunes_generated = tunes_generated.reshape(820,4,64)\n",
    "print('gan shape', tunes_generated.shape)\n",
    "\n",
    "magenta_generated = np.load('./../data/generated/magenta_generated.npy', allow_pickle=True)\n",
    "magenta_generated = magenta_generated.reshape(820,4,64)\n",
    "print('magenta shape: ', magenta_generated.shape)"
   ]
  },
  {
   "cell_type": "markdown",
   "metadata": {
    "colab_type": "text",
    "id": "dih5iJwflueb"
   },
   "source": [
    "# **Frechet Distance**"
   ]
  },
  {
   "cell_type": "code",
   "execution_count": null,
   "metadata": {
    "colab": {},
    "colab_type": "code",
    "id": "X8rUxzXjmCGr"
   },
   "outputs": [],
   "source": [
    "# dataset\n",
    "\n",
    "real_frechet = [[], [], [], [], [], []]\n",
    "\n",
    "for tune in data:\n",
    "  real_frechet[0].append(frechet_dist(tune[0], tune[1]))\n",
    "  real_frechet[1].append(frechet_dist(tune[0], tune[2]))\n",
    "  real_frechet[2].append(frechet_dist(tune[0], tune[3]))\n",
    "  real_frechet[3].append(frechet_dist(tune[1], tune[2]))\n",
    "  real_frechet[4].append(frechet_dist(tune[1], tune[3]))\n",
    "  real_frechet[5].append(frechet_dist(tune[2], tune[3]))"
   ]
  },
  {
   "cell_type": "code",
   "execution_count": null,
   "metadata": {
    "colab": {},
    "colab_type": "code",
    "id": "kWRPtzZtgTqZ",
    "scrolled": true
   },
   "outputs": [],
   "source": [
    "# gan tunes\n",
    "\n",
    "gen_frechet = [[], [], [], [], [], []]\n",
    "\n",
    "for tune in tunes_generated:\n",
    "  gen_frechet[0].append(frechet_dist(tune[0], tune[1]))\n",
    "  gen_frechet[1].append(frechet_dist(tune[0], tune[2]))\n",
    "  gen_frechet[2].append(frechet_dist(tune[0], tune[3]))\n",
    "  gen_frechet[3].append(frechet_dist(tune[1], tune[2]))\n",
    "  gen_frechet[4].append(frechet_dist(tune[1], tune[3]))\n",
    "  gen_frechet[5].append(frechet_dist(tune[2], tune[3]))"
   ]
  },
  {
   "cell_type": "code",
   "execution_count": null,
   "metadata": {
    "colab": {},
    "colab_type": "code",
    "id": "04XqAUx1hvTX"
   },
   "outputs": [],
   "source": [
    "# magenta tunes\n",
    "\n",
    "mag_frechet = [[], [], [], [], [], []]\n",
    "\n",
    "for tune in magenta_generated:\n",
    "  mag_frechet[0].append(frechet_dist(tune[0], tune[1]))\n",
    "  mag_frechet[1].append(frechet_dist(tune[0], tune[2]))\n",
    "  mag_frechet[2].append(frechet_dist(tune[0], tune[3]))\n",
    "  mag_frechet[3].append(frechet_dist(tune[1], tune[2]))\n",
    "  mag_frechet[4].append(frechet_dist(tune[1], tune[3]))\n",
    "  mag_frechet[5].append(frechet_dist(tune[2], tune[3]))"
   ]
  },
  {
   "cell_type": "code",
   "execution_count": null,
   "metadata": {
    "colab": {},
    "colab_type": "code",
    "id": "JIXi0hFxgWLu"
   },
   "outputs": [],
   "source": [
    "# folk rnn tunes\n",
    "\n",
    "folk_frechet = [[], [], [], [], [], []]\n",
    "\n",
    "for tune in folkrnn:\n",
    "  folk_frechet[0].append(frechet_dist(tune[0], tune[1]))\n",
    "  folk_frechet[1].append(frechet_dist(tune[0], tune[2]))\n",
    "  folk_frechet[2].append(frechet_dist(tune[0], tune[3]))\n",
    "  folk_frechet[3].append(frechet_dist(tune[1], tune[2]))\n",
    "  folk_frechet[4].append(frechet_dist(tune[1], tune[3]))\n",
    "  folk_frechet[5].append(frechet_dist(tune[2], tune[3]))"
   ]
  },
  {
   "cell_type": "code",
   "execution_count": null,
   "metadata": {
    "colab": {
     "base_uri": "https://localhost:8080/",
     "height": 514
    },
    "colab_type": "code",
    "id": "lu3lxhEyphso",
    "outputId": "bb67b722-5b31-469a-fbbc-07792b6d8d92"
   },
   "outputs": [],
   "source": [
    "real_frechet_mean = [np.mean(real_frechet[0]), np.mean(real_frechet[1]), np.mean(real_frechet[2]),\n",
    "                    np.mean(real_frechet[3]), np.mean(real_frechet[4]), np.mean(real_frechet[5])]\n",
    "\n",
    "gen_frechet_mean = [np.mean(gen_frechet[0]), np.mean(gen_frechet[1]), np.mean(gen_frechet[2]),\n",
    "                   np.mean(gen_frechet[3]), np.mean(gen_frechet[4]), np.mean(gen_frechet[5])]\n",
    "\n",
    "folk_frechet_mean = [np.mean(folk_frechet[0]), np.mean(folk_frechet[1]), np.mean(folk_frechet[2]),\n",
    "                   np.mean(folk_frechet[3]), np.mean(folk_frechet[4]), np.mean(folk_frechet[5])]\n",
    "\n",
    "mag_frechet_mean = [np.mean(mag_frechet[0]), np.mean(mag_frechet[1]), np.mean(mag_frechet[2]),\n",
    "                   np.mean(mag_frechet[3]), np.mean(mag_frechet[4]), np.mean(mag_frechet[5])]\n",
    "\n",
    "print(\"Real data:\\n\\t1-2: {:.2f}\\n\\t1-3: {:.2f}\\n\\t1-4: {:.2f}\\n\\t2-3: {:.2f}\\n\\t2-4: {:.2f}\\n\\t3-4: {:.2f}\".format(*real_frechet_mean))\n",
    "print(\"Generated data:\\n\\t1-2: {:.2f}\\n\\t1-3: {:.2f}\\n\\t1-4: {:.2f}\\n\\t2-3: {:.2f}\\n\\t2-4: {:.2f}\\n\\t3-4: {:.2f}\".format(*gen_frechet_mean))\n",
    "print(\"FolkRNN data:\\n\\t1-2: {:.2f}\\n\\t1-3: {:.2f}\\n\\t1-4: {:.2f}\\n\\t2-3: {:.2f}\\n\\t2-4: {:.2f}\\n\\t3-4: {:.2f}\".format(*folk_frechet_mean))\n",
    "print(\"Magenta data:\\n\\t1-2: {:.2f}\\n\\t1-3: {:.2f}\\n\\t1-4: {:.2f}\\n\\t2-3: {:.2f}\\n\\t2-4: {:.2f}\\n\\t3-4: {:.2f}\".format(*mag_frechet_mean))\n"
   ]
  },
  {
   "cell_type": "code",
   "execution_count": null,
   "metadata": {
    "colab": {},
    "colab_type": "code",
    "id": "PxKRMv0KnI54"
   },
   "outputs": [],
   "source": [
    "real_frechet_norm = real_frechet_mean/np.sum(real_frechet_mean)\n",
    "gen_frechet_norm = gen_frechet_mean/np.sum(gen_frechet_mean)\n",
    "folk_frechet_norm = folk_frechet_mean/np.sum(folk_frechet_mean)\n",
    "mag_frechet_norm = mag_frechet_mean/np.sum(mag_frechet_mean)\n"
   ]
  },
  {
   "cell_type": "code",
   "execution_count": null,
   "metadata": {
    "colab": {},
    "colab_type": "code",
    "id": "xLf_bLVN_I6S"
   },
   "outputs": [],
   "source": [
    "FIG_SIZE = (10,10)\n",
    "TITLE_FONT_SIZE = 30\n",
    "FONT_SIZE = 14\n",
    "title = \"Phrase Comparison using Frechet Distance\"\n",
    "xlabel, ylabel = 'Phrases', 'Normalized Mean Frechet Distance'"
   ]
  },
  {
   "cell_type": "code",
   "execution_count": null,
   "metadata": {
    "colab": {
     "base_uri": "https://localhost:8080/",
     "height": 298
    },
    "colab_type": "code",
    "id": "81yBugLplAIe",
    "outputId": "1f8b7637-496a-45a6-d14d-a32cfaed0574"
   },
   "outputs": [],
   "source": [
    "fig = plt.figure(figsize=FIG_SIZE) # Creates a new figure\n",
    "f1 = fig.add_subplot(211)# add a subplot to the new figure, 111 means \"1x1 grid, first subplot\"\n",
    "fig.subplots_adjust(top=0.80) # adjust the placing of subplot, adjust top, bottom, left and right spacing\n",
    "#f1.set_title(\"Normalized Phrase Comparison\", fontsize= TITLE_FONT_SIZE) # title of plot\n",
    "\n",
    "labels_1 = ['(1,2)', '(1,3)', '(1,4)', '(2,3)', '(2,4)', '(3,4)']\n",
    "x = np.arange(len(labels_1))  # the label locations\n",
    "ind = np.arange(6)\n",
    "width = 0.1  # the width of the bars\n",
    "\n",
    "f1.set_xlabel(xlabel,fontsize = FONT_SIZE) #xlabel\n",
    "f1.set_ylabel(ylabel, fontsize = FONT_SIZE)#ylabel\n",
    "\n",
    "\n",
    "f1.bar(x, real_frechet_norm, width,  label=\"The Session\" )\n",
    "f1.bar(x+width,gen_frechet_norm, width, label=\"Our Model\", )\n",
    "f1.bar(x+2*width, folk_frechet_norm, width,  label=\"FolkRNN\")\n",
    "f1.bar(x+3*width, mag_frechet_norm, width,  label=\"Magenta\")\n",
    "\n",
    "\n",
    "f1.set_xticks(np.arange(6) + width)\n",
    "f1.set_xticklabels(('1-2', '1-3', '1-4', '2-3', '2-4', '3-4'), minor=False)\n",
    "f1.legend()\n",
    "\n",
    "plt.show()"
   ]
  }
 ],
 "metadata": {
  "colab": {
   "collapsed_sections": [],
   "name": "Copy of gans n reels statistics.ipynb",
   "provenance": [],
   "toc_visible": true
  },
  "kernelspec": {
   "display_name": "Python 3",
   "language": "python",
   "name": "python3"
  },
  "language_info": {
   "codemirror_mode": {
    "name": "ipython",
    "version": 3
   },
   "file_extension": ".py",
   "mimetype": "text/x-python",
   "name": "python",
   "nbconvert_exporter": "python",
   "pygments_lexer": "ipython3",
   "version": "3.6.8"
  }
 },
 "nbformat": 4,
 "nbformat_minor": 1
}
